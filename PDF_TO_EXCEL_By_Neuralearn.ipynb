{
  "cells": [
    {
      "cell_type": "code",
      "source": [
        "from PIL import Image\n",
        "import cv2\n",
        "import numpy as np\n",
        "import pandas as pd \n",
        "import tensorflow as tf"
      ],
      "metadata": {
        "id": "mhEjVUbiUytV"
      },
      "execution_count": null,
      "outputs": []
    },
    {
      "cell_type": "code",
      "source": [
        "!pip install paddlepaddle-gpu==2.3.2 cudatoolkit==10.2"
      ],
      "metadata": {
        "colab": {
          "base_uri": "https://localhost:8080/"
        },
        "id": "JejuCeNXHckg",
        "outputId": "2053c030-387a-4950-bcbf-623f2b669510"
      },
      "execution_count": null,
      "outputs": [
        {
          "output_type": "stream",
          "name": "stdout",
          "text": [
            "Looking in indexes: https://pypi.org/simple, https://us-python.pkg.dev/colab-wheels/public/simple/\n",
            "Requirement already satisfied: paddlepaddle-gpu==2.3.2 in /usr/local/lib/python3.7/dist-packages (2.3.2)\n",
            "\u001b[31mERROR: Could not find a version that satisfies the requirement cudatoolkit==10.2 (from versions: none)\u001b[0m\n",
            "\u001b[31mERROR: No matching distribution found for cudatoolkit==10.2\u001b[0m\n"
          ]
        }
      ]
    },
    {
      "cell_type": "markdown",
      "metadata": {
        "id": "dvKiMyj2feUe"
      },
      "source": [
        "# pdf2image"
      ]
    },
    {
      "cell_type": "markdown",
      "source": [
        "## Installation"
      ],
      "metadata": {
        "id": "aIz56VvlWkf-"
      }
    },
    {
      "cell_type": "code",
      "source": [
        "!pip install pdf2image\n",
        "!apt-get update\n",
        "!apt-get install poppler-utils"
      ],
      "metadata": {
        "colab": {
          "base_uri": "https://localhost:8080/"
        },
        "id": "biSgyAkWnUD3",
        "outputId": "17a69115-3a8e-40ad-d716-7a4af69e4ccc"
      },
      "execution_count": null,
      "outputs": [
        {
          "output_type": "stream",
          "name": "stdout",
          "text": [
            "Looking in indexes: https://pypi.org/simple, https://us-python.pkg.dev/colab-wheels/public/simple/\n",
            "Requirement already satisfied: pdf2image in /usr/local/lib/python3.7/dist-packages (1.16.0)\n",
            "Requirement already satisfied: pillow in /usr/local/lib/python3.7/dist-packages (from pdf2image) (7.1.2)\n",
            "Hit:1 http://archive.ubuntu.com/ubuntu bionic InRelease\n",
            "Get:2 http://security.ubuntu.com/ubuntu bionic-security InRelease [88.7 kB]\n",
            "Ign:3 https://developer.download.nvidia.com/compute/machine-learning/repos/ubuntu1804/x86_64  InRelease\n",
            "Hit:4 https://developer.download.nvidia.com/compute/cuda/repos/ubuntu1804/x86_64  InRelease\n",
            "Hit:5 http://ppa.launchpad.net/c2d4u.team/c2d4u4.0+/ubuntu bionic InRelease\n",
            "Hit:6 https://developer.download.nvidia.com/compute/machine-learning/repos/ubuntu1804/x86_64  Release\n",
            "Get:7 http://archive.ubuntu.com/ubuntu bionic-updates InRelease [88.7 kB]\n",
            "Hit:8 http://ppa.launchpad.net/cran/libgit2/ubuntu bionic InRelease\n",
            "Hit:9 https://cloud.r-project.org/bin/linux/ubuntu bionic-cran40/ InRelease\n",
            "Hit:11 http://ppa.launchpad.net/deadsnakes/ppa/ubuntu bionic InRelease\n",
            "Get:12 http://archive.ubuntu.com/ubuntu bionic-backports InRelease [83.3 kB]\n",
            "Hit:13 http://ppa.launchpad.net/graphics-drivers/ppa/ubuntu bionic InRelease\n",
            "Fetched 261 kB in 3s (97.3 kB/s)\n",
            "Reading package lists... Done\n",
            "Reading package lists... Done\n",
            "Building dependency tree       \n",
            "Reading state information... Done\n",
            "poppler-utils is already the newest version (0.62.0-2ubuntu2.14).\n",
            "The following package was automatically installed and is no longer required:\n",
            "  libnvidia-common-460\n",
            "Use 'apt autoremove' to remove it.\n",
            "0 upgraded, 0 newly installed, 0 to remove and 22 not upgraded.\n"
          ]
        }
      ]
    },
    {
      "cell_type": "markdown",
      "source": [
        "## Conversion"
      ],
      "metadata": {
        "id": "pLaguCz1WmF9"
      }
    },
    {
      "cell_type": "code",
      "source": [
        "from pdf2image import convert_from_path"
      ],
      "metadata": {
        "id": "HI1dzCGmkeWI"
      },
      "execution_count": null,
      "outputs": []
    },
    {
      "cell_type": "code",
      "source": [
        "images = convert_from_path('/content/10.1.1.995.5264.pdf')"
      ],
      "metadata": {
        "id": "xyhjFgqjkgG7"
      },
      "execution_count": null,
      "outputs": []
    },
    {
      "cell_type": "code",
      "source": [
        "!mkdir pages"
      ],
      "metadata": {
        "id": "M5hBWxpskgJW",
        "colab": {
          "base_uri": "https://localhost:8080/"
        },
        "outputId": "b6906d65-b74c-44b0-ae25-de603777cf44"
      },
      "execution_count": null,
      "outputs": [
        {
          "output_type": "stream",
          "name": "stdout",
          "text": [
            "mkdir: cannot create directory ‘pages’: File exists\n"
          ]
        }
      ]
    },
    {
      "cell_type": "code",
      "source": [
        "for i in range(len(images)):\n",
        "  images[i].save('pages/page'+str(i)+'.jpg', 'JPEG')"
      ],
      "metadata": {
        "id": "7mlH9ltkkgMB"
      },
      "execution_count": null,
      "outputs": []
    },
    {
      "cell_type": "markdown",
      "source": [
        "# Layout"
      ],
      "metadata": {
        "id": "Urwb7Q_OZC8t"
      }
    },
    {
      "cell_type": "markdown",
      "source": [
        "## Installation"
      ],
      "metadata": {
        "id": "vTkwQbF4FZPN"
      }
    },
    {
      "cell_type": "code",
      "source": [
        "!python3 -m pip install paddlepaddle-gpu\n",
        "!pip install \"paddleocr>=2.0.1\"\n",
        "!pip install protobuf==3.20.0\n",
        "!git clone https://github.com/PaddlePaddle/PaddleOCR.git"
      ],
      "metadata": {
        "colab": {
          "base_uri": "https://localhost:8080/"
        },
        "id": "R0lRpQLkIpbZ",
        "outputId": "b5bd7cd4-e514-4b6b-ebe9-492087973725"
      },
      "execution_count": null,
      "outputs": [
        {
          "output_type": "stream",
          "name": "stdout",
          "text": [
            "Looking in indexes: https://pypi.org/simple, https://us-python.pkg.dev/colab-wheels/public/simple/\n",
            "Requirement already satisfied: paddlepaddle-gpu in /usr/local/lib/python3.7/dist-packages (2.3.2)\n",
            "Requirement already satisfied: six in /usr/local/lib/python3.7/dist-packages (from paddlepaddle-gpu) (1.15.0)\n",
            "Requirement already satisfied: decorator in /usr/local/lib/python3.7/dist-packages (from paddlepaddle-gpu) (4.4.2)\n",
            "Requirement already satisfied: Pillow in /usr/local/lib/python3.7/dist-packages (from paddlepaddle-gpu) (7.1.2)\n",
            "Requirement already satisfied: protobuf<=3.20.0,>=3.1.0 in /usr/local/lib/python3.7/dist-packages (from paddlepaddle-gpu) (3.20.0)\n",
            "Requirement already satisfied: paddle-bfloat==0.1.7 in /usr/local/lib/python3.7/dist-packages (from paddlepaddle-gpu) (0.1.7)\n",
            "Requirement already satisfied: opt-einsum==3.3.0 in /usr/local/lib/python3.7/dist-packages (from paddlepaddle-gpu) (3.3.0)\n",
            "Requirement already satisfied: astor in /usr/local/lib/python3.7/dist-packages (from paddlepaddle-gpu) (0.8.1)\n",
            "Requirement already satisfied: requests>=2.20.0 in /usr/local/lib/python3.7/dist-packages (from paddlepaddle-gpu) (2.23.0)\n",
            "Requirement already satisfied: numpy>=1.13 in /usr/local/lib/python3.7/dist-packages (from paddlepaddle-gpu) (1.21.6)\n",
            "Requirement already satisfied: urllib3!=1.25.0,!=1.25.1,<1.26,>=1.21.1 in /usr/local/lib/python3.7/dist-packages (from requests>=2.20.0->paddlepaddle-gpu) (1.24.3)\n",
            "Requirement already satisfied: certifi>=2017.4.17 in /usr/local/lib/python3.7/dist-packages (from requests>=2.20.0->paddlepaddle-gpu) (2022.9.24)\n",
            "Requirement already satisfied: chardet<4,>=3.0.2 in /usr/local/lib/python3.7/dist-packages (from requests>=2.20.0->paddlepaddle-gpu) (3.0.4)\n",
            "Requirement already satisfied: idna<3,>=2.5 in /usr/local/lib/python3.7/dist-packages (from requests>=2.20.0->paddlepaddle-gpu) (2.10)\n",
            "Looking in indexes: https://pypi.org/simple, https://us-python.pkg.dev/colab-wheels/public/simple/\n",
            "Requirement already satisfied: paddleocr>=2.0.1 in /usr/local/lib/python3.7/dist-packages (2.6.0.2)\n",
            "Requirement already satisfied: PyMuPDF==1.18.7 in /usr/local/lib/python3.7/dist-packages (from paddleocr>=2.0.1) (1.18.7)\n",
            "Requirement already satisfied: scikit-image in /usr/local/lib/python3.7/dist-packages (from paddleocr>=2.0.1) (0.18.3)\n",
            "Requirement already satisfied: shapely in /usr/local/lib/python3.7/dist-packages (from paddleocr>=2.0.1) (1.8.4)\n",
            "Requirement already satisfied: rapidfuzz in /usr/local/lib/python3.7/dist-packages (from paddleocr>=2.0.1) (2.11.1)\n",
            "Requirement already satisfied: opencv-python in /usr/local/lib/python3.7/dist-packages (from paddleocr>=2.0.1) (4.6.0.66)\n",
            "Requirement already satisfied: cython in /usr/local/lib/python3.7/dist-packages (from paddleocr>=2.0.1) (0.29.32)\n",
            "Requirement already satisfied: openpyxl in /usr/local/lib/python3.7/dist-packages (from paddleocr>=2.0.1) (3.0.10)\n",
            "Requirement already satisfied: attrdict in /usr/local/lib/python3.7/dist-packages (from paddleocr>=2.0.1) (2.0.1)\n",
            "Requirement already satisfied: pyclipper in /usr/local/lib/python3.7/dist-packages (from paddleocr>=2.0.1) (1.3.0.post3)\n",
            "Requirement already satisfied: imgaug in /usr/local/lib/python3.7/dist-packages (from paddleocr>=2.0.1) (0.4.0)\n",
            "Requirement already satisfied: numpy in /usr/local/lib/python3.7/dist-packages (from paddleocr>=2.0.1) (1.21.6)\n",
            "Requirement already satisfied: lxml in /usr/local/lib/python3.7/dist-packages (from paddleocr>=2.0.1) (4.9.1)\n",
            "Requirement already satisfied: Polygon3 in /usr/local/lib/python3.7/dist-packages (from paddleocr>=2.0.1) (3.0.9.1)\n",
            "Requirement already satisfied: premailer in /usr/local/lib/python3.7/dist-packages (from paddleocr>=2.0.1) (3.10.0)\n",
            "Requirement already satisfied: opencv-contrib-python in /usr/local/lib/python3.7/dist-packages (from paddleocr>=2.0.1) (4.6.0.66)\n",
            "Requirement already satisfied: visualdl in /usr/local/lib/python3.7/dist-packages (from paddleocr>=2.0.1) (2.4.1)\n",
            "Requirement already satisfied: tqdm in /usr/local/lib/python3.7/dist-packages (from paddleocr>=2.0.1) (4.64.1)\n",
            "Requirement already satisfied: lmdb in /usr/local/lib/python3.7/dist-packages (from paddleocr>=2.0.1) (0.99)\n",
            "Requirement already satisfied: six in /usr/local/lib/python3.7/dist-packages (from attrdict->paddleocr>=2.0.1) (1.15.0)\n",
            "Requirement already satisfied: scipy in /usr/local/lib/python3.7/dist-packages (from imgaug->paddleocr>=2.0.1) (1.7.3)\n",
            "Requirement already satisfied: imageio in /usr/local/lib/python3.7/dist-packages (from imgaug->paddleocr>=2.0.1) (2.9.0)\n",
            "Requirement already satisfied: Pillow in /usr/local/lib/python3.7/dist-packages (from imgaug->paddleocr>=2.0.1) (7.1.2)\n",
            "Requirement already satisfied: matplotlib in /usr/local/lib/python3.7/dist-packages (from imgaug->paddleocr>=2.0.1) (3.2.2)\n",
            "Requirement already satisfied: tifffile>=2019.7.26 in /usr/local/lib/python3.7/dist-packages (from scikit-image->paddleocr>=2.0.1) (2021.11.2)\n",
            "Requirement already satisfied: PyWavelets>=1.1.1 in /usr/local/lib/python3.7/dist-packages (from scikit-image->paddleocr>=2.0.1) (1.3.0)\n",
            "Requirement already satisfied: networkx>=2.0 in /usr/local/lib/python3.7/dist-packages (from scikit-image->paddleocr>=2.0.1) (2.6.3)\n",
            "Requirement already satisfied: pyparsing!=2.0.4,!=2.1.2,!=2.1.6,>=2.0.1 in /usr/local/lib/python3.7/dist-packages (from matplotlib->imgaug->paddleocr>=2.0.1) (3.0.9)\n",
            "Requirement already satisfied: cycler>=0.10 in /usr/local/lib/python3.7/dist-packages (from matplotlib->imgaug->paddleocr>=2.0.1) (0.11.0)\n",
            "Requirement already satisfied: python-dateutil>=2.1 in /usr/local/lib/python3.7/dist-packages (from matplotlib->imgaug->paddleocr>=2.0.1) (2.8.2)\n",
            "Requirement already satisfied: kiwisolver>=1.0.1 in /usr/local/lib/python3.7/dist-packages (from matplotlib->imgaug->paddleocr>=2.0.1) (1.4.4)\n",
            "Requirement already satisfied: typing-extensions in /usr/local/lib/python3.7/dist-packages (from kiwisolver>=1.0.1->matplotlib->imgaug->paddleocr>=2.0.1) (4.1.1)\n",
            "Requirement already satisfied: et-xmlfile in /usr/local/lib/python3.7/dist-packages (from openpyxl->paddleocr>=2.0.1) (1.1.0)\n",
            "Requirement already satisfied: cachetools in /usr/local/lib/python3.7/dist-packages (from premailer->paddleocr>=2.0.1) (4.2.4)\n",
            "Requirement already satisfied: requests in /usr/local/lib/python3.7/dist-packages (from premailer->paddleocr>=2.0.1) (2.23.0)\n",
            "Requirement already satisfied: cssselect in /usr/local/lib/python3.7/dist-packages (from premailer->paddleocr>=2.0.1) (1.1.0)\n",
            "Requirement already satisfied: cssutils in /usr/local/lib/python3.7/dist-packages (from premailer->paddleocr>=2.0.1) (2.6.0)\n",
            "Requirement already satisfied: importlib-metadata in /usr/local/lib/python3.7/dist-packages (from cssutils->premailer->paddleocr>=2.0.1) (5.0.0)\n",
            "Requirement already satisfied: zipp>=0.5 in /usr/local/lib/python3.7/dist-packages (from importlib-metadata->cssutils->premailer->paddleocr>=2.0.1) (3.8.1)\n",
            "Requirement already satisfied: chardet<4,>=3.0.2 in /usr/local/lib/python3.7/dist-packages (from requests->premailer->paddleocr>=2.0.1) (3.0.4)\n",
            "Requirement already satisfied: certifi>=2017.4.17 in /usr/local/lib/python3.7/dist-packages (from requests->premailer->paddleocr>=2.0.1) (2022.9.24)\n",
            "Requirement already satisfied: idna<3,>=2.5 in /usr/local/lib/python3.7/dist-packages (from requests->premailer->paddleocr>=2.0.1) (2.10)\n",
            "Requirement already satisfied: urllib3!=1.25.0,!=1.25.1,<1.26,>=1.21.1 in /usr/local/lib/python3.7/dist-packages (from requests->premailer->paddleocr>=2.0.1) (1.24.3)\n",
            "Requirement already satisfied: packaging in /usr/local/lib/python3.7/dist-packages (from visualdl->paddleocr>=2.0.1) (21.3)\n",
            "Requirement already satisfied: bce-python-sdk in /usr/local/lib/python3.7/dist-packages (from visualdl->paddleocr>=2.0.1) (0.8.74)\n",
            "Requirement already satisfied: protobuf>=3.11.0 in /usr/local/lib/python3.7/dist-packages (from visualdl->paddleocr>=2.0.1) (3.20.0)\n",
            "Requirement already satisfied: multiprocess in /usr/local/lib/python3.7/dist-packages (from visualdl->paddleocr>=2.0.1) (0.70.13)\n",
            "Requirement already satisfied: flask>=1.1.1 in /usr/local/lib/python3.7/dist-packages (from visualdl->paddleocr>=2.0.1) (1.1.4)\n",
            "Requirement already satisfied: Flask-Babel>=1.0.0 in /usr/local/lib/python3.7/dist-packages (from visualdl->paddleocr>=2.0.1) (2.0.0)\n",
            "Requirement already satisfied: pandas in /usr/local/lib/python3.7/dist-packages (from visualdl->paddleocr>=2.0.1) (1.3.5)\n",
            "Requirement already satisfied: Werkzeug<2.0,>=0.15 in /usr/local/lib/python3.7/dist-packages (from flask>=1.1.1->visualdl->paddleocr>=2.0.1) (1.0.1)\n",
            "Requirement already satisfied: itsdangerous<2.0,>=0.24 in /usr/local/lib/python3.7/dist-packages (from flask>=1.1.1->visualdl->paddleocr>=2.0.1) (1.1.0)\n",
            "Requirement already satisfied: Jinja2<3.0,>=2.10.1 in /usr/local/lib/python3.7/dist-packages (from flask>=1.1.1->visualdl->paddleocr>=2.0.1) (2.11.3)\n",
            "Requirement already satisfied: click<8.0,>=5.1 in /usr/local/lib/python3.7/dist-packages (from flask>=1.1.1->visualdl->paddleocr>=2.0.1) (7.1.2)\n",
            "Requirement already satisfied: pytz in /usr/local/lib/python3.7/dist-packages (from Flask-Babel>=1.0.0->visualdl->paddleocr>=2.0.1) (2022.4)\n",
            "Requirement already satisfied: Babel>=2.3 in /usr/local/lib/python3.7/dist-packages (from Flask-Babel>=1.0.0->visualdl->paddleocr>=2.0.1) (2.10.3)\n",
            "Requirement already satisfied: MarkupSafe>=0.23 in /usr/local/lib/python3.7/dist-packages (from Jinja2<3.0,>=2.10.1->flask>=1.1.1->visualdl->paddleocr>=2.0.1) (2.0.1)\n",
            "Requirement already satisfied: pycryptodome>=3.8.0 in /usr/local/lib/python3.7/dist-packages (from bce-python-sdk->visualdl->paddleocr>=2.0.1) (3.15.0)\n",
            "Requirement already satisfied: future>=0.6.0 in /usr/local/lib/python3.7/dist-packages (from bce-python-sdk->visualdl->paddleocr>=2.0.1) (0.16.0)\n",
            "Requirement already satisfied: dill>=0.3.5.1 in /usr/local/lib/python3.7/dist-packages (from multiprocess->visualdl->paddleocr>=2.0.1) (0.3.5.1)\n",
            "Looking in indexes: https://pypi.org/simple, https://us-python.pkg.dev/colab-wheels/public/simple/\n",
            "Requirement already satisfied: protobuf==3.20.0 in /usr/local/lib/python3.7/dist-packages (3.20.0)\n",
            "fatal: destination path 'PaddleOCR' already exists and is not an empty directory.\n"
          ]
        }
      ]
    },
    {
      "cell_type": "code",
      "source": [
        "a=5"
      ],
      "metadata": {
        "id": "IXEKTAa2_10K"
      },
      "execution_count": null,
      "outputs": []
    },
    {
      "cell_type": "code",
      "source": [
        "!wget https://paddleocr.bj.bcebos.com/whl/layoutparser-0.0.0-py3-none-any.whl\n",
        "!pip install -U layoutparser-0.0.0-py3-none-any.whl"
      ],
      "metadata": {
        "colab": {
          "base_uri": "https://localhost:8080/"
        },
        "id": "8gWFgGl5CXu6",
        "outputId": "c1830921-2db2-4221-bf4b-6ea47ee9bc3d"
      },
      "execution_count": null,
      "outputs": [
        {
          "output_type": "stream",
          "name": "stdout",
          "text": [
            "--2022-10-12 12:03:05--  https://paddleocr.bj.bcebos.com/whl/layoutparser-0.0.0-py3-none-any.whl\n",
            "Resolving paddleocr.bj.bcebos.com (paddleocr.bj.bcebos.com)... 220.181.33.43, 220.181.33.44, 2409:8c04:1001:1002:0:ff:b001:368a\n",
            "Connecting to paddleocr.bj.bcebos.com (paddleocr.bj.bcebos.com)|220.181.33.43|:443... connected.\n",
            "HTTP request sent, awaiting response... 200 OK\n",
            "Length: 19145360 (18M) [application/octet-stream]\n",
            "Saving to: ‘layoutparser-0.0.0-py3-none-any.whl.3’\n",
            "\n",
            "layoutparser-0.0.0- 100%[===================>]  18.26M  4.94MB/s    in 5.4s    \n",
            "\n",
            "2022-10-12 12:03:12 (3.36 MB/s) - ‘layoutparser-0.0.0-py3-none-any.whl.3’ saved [19145360/19145360]\n",
            "\n",
            "Looking in indexes: https://pypi.org/simple, https://us-python.pkg.dev/colab-wheels/public/simple/\n",
            "Processing ./layoutparser-0.0.0-py3-none-any.whl\n",
            "Requirement already satisfied: pillow in /usr/local/lib/python3.7/dist-packages (from layoutparser==0.0.0) (7.1.2)\n",
            "Requirement already satisfied: numpy in /usr/local/lib/python3.7/dist-packages (from layoutparser==0.0.0) (1.21.6)\n",
            "Requirement already satisfied: tqdm in /usr/local/lib/python3.7/dist-packages (from layoutparser==0.0.0) (4.64.1)\n",
            "Requirement already satisfied: pandas in /usr/local/lib/python3.7/dist-packages (from layoutparser==0.0.0) (1.3.5)\n",
            "Requirement already satisfied: pyyaml>=5.1 in /usr/local/lib/python3.7/dist-packages (from layoutparser==0.0.0) (6.0)\n",
            "Requirement already satisfied: iopath in /usr/local/lib/python3.7/dist-packages (from layoutparser==0.0.0) (0.1.10)\n",
            "Requirement already satisfied: opencv-python in /usr/local/lib/python3.7/dist-packages (from layoutparser==0.0.0) (4.6.0.66)\n",
            "Requirement already satisfied: portalocker in /usr/local/lib/python3.7/dist-packages (from iopath->layoutparser==0.0.0) (2.5.1)\n",
            "Requirement already satisfied: typing-extensions in /usr/local/lib/python3.7/dist-packages (from iopath->layoutparser==0.0.0) (4.1.1)\n",
            "Requirement already satisfied: python-dateutil>=2.7.3 in /usr/local/lib/python3.7/dist-packages (from pandas->layoutparser==0.0.0) (2.8.2)\n",
            "Requirement already satisfied: pytz>=2017.3 in /usr/local/lib/python3.7/dist-packages (from pandas->layoutparser==0.0.0) (2022.4)\n",
            "Requirement already satisfied: six>=1.5 in /usr/local/lib/python3.7/dist-packages (from python-dateutil>=2.7.3->pandas->layoutparser==0.0.0) (1.15.0)\n",
            "layoutparser is already installed with the same version as the provided wheel. Use --force-reinstall to force an installation of the wheel.\n"
          ]
        }
      ]
    },
    {
      "cell_type": "markdown",
      "source": [
        "## Table Extraction"
      ],
      "metadata": {
        "id": "w5MA08E0F8aU"
      }
    },
    {
      "cell_type": "code",
      "source": [
        "import cv2\n",
        "import layoutparser as lp\n",
        "image = cv2.imread(\"/content/pages/page0.jpg\")\n",
        "\n",
        "image = image[..., ::-1]\n",
        "\n",
        "# load model\n",
        "model = lp.PaddleDetectionLayoutModel(config_path=\"lp://PubLayNet/ppyolov2_r50vd_dcn_365e_publaynet/config\",\n",
        "                                threshold=0.5,\n",
        "                                label_map={0: \"Text\", 1: \"Title\", 2: \"List\", 3:\"Table\", 4:\"Figure\"},\n",
        "                                enforce_cpu=False,\n",
        "                                enable_mkldnn=True)#math kernel library\n",
        "# detect\n",
        "layout = model.detect(image)"
      ],
      "metadata": {
        "id": "bw9SFYnMCX0E"
      },
      "execution_count": null,
      "outputs": []
    },
    {
      "cell_type": "code",
      "source": [
        "layout"
      ],
      "metadata": {
        "id": "G76oO2WXCX6v"
      },
      "execution_count": null,
      "outputs": []
    },
    {
      "cell_type": "code",
      "source": [
        "x_1=0\n",
        "y_1=0\n",
        "x_2=0\n",
        "y_2=0\n",
        "\n",
        "for l in layout:\n",
        "  print(l)\n",
        "  if l.type == 'Table':\n",
        "    x_1 = int(l.block.x_1)\n",
        "    print(l.block.x_1)\n",
        "    y_1 = int(l.block.y_1)\n",
        "    x_2 = int(l.block.x_2)\n",
        "    y_2 = int(l.block.y_2)\n",
        "    \n",
        "    break"
      ],
      "metadata": {
        "id": "y3h0kCz-CX_U",
        "colab": {
          "base_uri": "https://localhost:8080/"
        },
        "outputId": "72d27fa0-2cbc-4bf9-cc40-cd43f38e35f3"
      },
      "execution_count": null,
      "outputs": [
        {
          "output_type": "stream",
          "name": "stdout",
          "text": [
            "TextBlock(block=Rectangle(x_1=48.9151611328125, y_1=89.757568359375, x_2=1618.2166748046875, y_2=1995.265625), text=None, id=None, type=Figure, parent=None, next=None, score=0.9652584791183472)\n",
            "TextBlock(block=Rectangle(x_1=52.398193359375, y_1=2068.001708984375, x_2=1264.267578125, y_2=2118.669677734375), text=None, id=None, type=Text, parent=None, next=None, score=0.8032485842704773)\n"
          ]
        }
      ]
    },
    {
      "cell_type": "code",
      "source": [
        "print(x_1,y_1,x_2,y_2)"
      ],
      "metadata": {
        "id": "cdiYPeCJCYIg",
        "colab": {
          "base_uri": "https://localhost:8080/"
        },
        "outputId": "c428d449-7ec0-4046-d6bc-ba683139bb4d"
      },
      "execution_count": null,
      "outputs": [
        {
          "output_type": "stream",
          "name": "stdout",
          "text": [
            "0 0 0 0\n"
          ]
        }
      ]
    },
    {
      "cell_type": "code",
      "source": [
        "im = cv2.imread('/content/pages/page0.jpg')\n"
      ],
      "metadata": {
        "id": "F39kJV3hCYLV"
      },
      "execution_count": null,
      "outputs": []
    },
    {
      "cell_type": "code",
      "source": [
        "cv2.imwrite('ext_im.jpg', im)#[y_1:y_2,x_1:x_2])"
      ],
      "metadata": {
        "id": "EQDXSNijCYPs",
        "colab": {
          "base_uri": "https://localhost:8080/"
        },
        "outputId": "571a5312-006d-4604-dcda-229c5fbebbaf"
      },
      "execution_count": null,
      "outputs": [
        {
          "output_type": "execute_result",
          "data": {
            "text/plain": [
              "True"
            ]
          },
          "metadata": {},
          "execution_count": 61
        }
      ]
    },
    {
      "cell_type": "code",
      "source": [],
      "metadata": {
        "id": "7O2P4aIMor_e"
      },
      "execution_count": null,
      "outputs": []
    },
    {
      "cell_type": "markdown",
      "metadata": {
        "id": "EGwGhHnd8i_h"
      },
      "source": [
        "# Text Detection and Recognition"
      ]
    },
    {
      "cell_type": "code",
      "source": [
        "from paddleocr import PaddleOCR, draw_ocr"
      ],
      "metadata": {
        "id": "N6WQZXhLLDWk"
      },
      "execution_count": null,
      "outputs": []
    },
    {
      "cell_type": "code",
      "source": [
        "ocr = PaddleOCR(lang='en')\n",
        "image_path = '/content/ext_im.jpg'\n",
        "image_cv = cv2.imread(image_path)\n",
        "image_height = image_cv.shape[0]\n",
        "image_width = image_cv.shape[1]\n",
        "output = ocr.ocr(image_path)"
      ],
      "metadata": {
        "colab": {
          "base_uri": "https://localhost:8080/"
        },
        "id": "A8bCZ9AULDZF",
        "outputId": "a39f9ea2-f964-4a59-e93f-ac264c6c289f"
      },
      "execution_count": null,
      "outputs": [
        {
          "output_type": "stream",
          "name": "stdout",
          "text": [
            "[2022/09/29 19:11:26] ppocr DEBUG: Namespace(alpha=1.0, benchmark=False, beta=1.0, cls_batch_num=6, cls_image_shape='3, 48, 192', cls_model_dir='/root/.paddleocr/whl/cls/ch_ppocr_mobile_v2.0_cls_infer', cls_thresh=0.9, cpu_threads=10, crop_res_save_dir='./output', det=True, det_algorithm='DB', det_db_box_thresh=0.6, det_db_score_mode='fast', det_db_thresh=0.3, det_db_unclip_ratio=1.5, det_east_cover_thresh=0.1, det_east_nms_thresh=0.2, det_east_score_thresh=0.8, det_fce_box_type='poly', det_limit_side_len=960, det_limit_type='max', det_model_dir='/root/.paddleocr/whl/det/en/en_PP-OCRv3_det_infer', det_pse_box_thresh=0.85, det_pse_box_type='quad', det_pse_min_area=16, det_pse_scale=1, det_pse_thresh=0, det_sast_nms_thresh=0.2, det_sast_polygon=False, det_sast_score_thresh=0.5, draw_img_save_dir='./inference_results', drop_score=0.5, e2e_algorithm='PGNet', e2e_char_dict_path='./ppocr/utils/ic15_dict.txt', e2e_limit_side_len=768, e2e_limit_type='max', e2e_model_dir=None, e2e_pgnet_mode='fast', e2e_pgnet_score_thresh=0.5, e2e_pgnet_valid_set='totaltext', enable_mkldnn=False, fourier_degree=5, gpu_mem=500, help='==SUPPRESS==', image_dir=None, image_orientation=False, ir_optim=True, kie_algorithm='LayoutXLM', label_list=['0', '180'], lang='en', layout=True, layout_dict_path=None, layout_model_dir=None, layout_nms_threshold=0.5, layout_score_threshold=0.5, max_batch_size=10, max_text_length=25, merge_no_span_structure=True, min_subgraph_size=15, mode='structure', ocr=True, ocr_order_method=None, ocr_version='PP-OCRv3', output='./output', precision='fp32', process_id=0, rec=True, rec_algorithm='SVTR_LCNet', rec_batch_num=6, rec_char_dict_path='/usr/local/lib/python3.7/dist-packages/paddleocr/ppocr/utils/en_dict.txt', rec_image_shape='3, 48, 320', rec_model_dir='/root/.paddleocr/whl/rec/en/en_PP-OCRv3_rec_infer', recovery=False, save_crop_res=False, save_log_path='./log_output/', save_pdf=False, scales=[8, 16, 32], ser_dict_path='../train_data/XFUND/class_list_xfun.txt', ser_model_dir=None, shape_info_filename=None, show_log=True, sr_batch_num=1, sr_image_shape='3, 32, 128', sr_model_dir=None, structure_version='PP-Structurev2', table=True, table_algorithm='TableAttn', table_char_dict_path=None, table_max_len=488, table_model_dir=None, total_process_num=1, type='ocr', use_angle_cls=False, use_dilation=False, use_gpu=True, use_mp=False, use_onnx=False, use_pdserving=False, use_space_char=True, use_tensorrt=False, use_xpu=False, vis_font_path='./doc/fonts/simfang.ttf', warmup=False)\n",
            "[2022/09/29 19:11:26] ppocr WARNING: Since the angle classifier is not initialized, the angle classifier will not be uesd during the forward process\n",
            "[2022/09/29 19:11:26] ppocr DEBUG: dt_boxes num : 210, elapse : 0.17908811569213867\n",
            "[2022/09/29 19:11:27] ppocr DEBUG: rec_res num  : 210, elapse : 0.3828754425048828\n"
          ]
        }
      ]
    },
    {
      "cell_type": "code",
      "source": [
        "print(output)"
      ],
      "metadata": {
        "colab": {
          "base_uri": "https://localhost:8080/"
        },
        "id": "VBIDZA0XLDeA",
        "outputId": "7f2880ff-d198-435c-eaae-01c996942cf7"
      },
      "execution_count": null,
      "outputs": [
        {
          "output_type": "stream",
          "name": "stdout",
          "text": [
            "[[[[113.0, 109.0], [621.0, 135.0], [618.0, 191.0], [110.0, 165.0]], ('UBLUNITED BANK.', 0.9269370436668396)], [[[1147.0, 163.0], [1570.0, 163.0], [1570.0, 212.0], [1147.0, 212.0]], ('Account Statement', 0.9793155789375305)], [[[175.0, 229.0], [569.0, 229.0], [569.0, 253.0], [175.0, 253.0]], ('0401-BABA-E-URDU ROAD,KARACHI', 0.9543657898902893)], [[[62.0, 258.0], [266.0, 258.0], [266.0, 283.0], [62.0, 283.0]], ('NAZSH IFTIKHAR', 0.9600556492805481)], [[[955.0, 266.0], [1122.0, 266.0], [1122.0, 290.0], [955.0, 290.0]], ('Statement Period', 0.9819560647010803)], [[[1184.0, 266.0], [1524.0, 266.0], [1524.0, 290.0], [1184.0, 290.0]], ('From 01-JAN-2021To 30-APR-2021', 0.9689167737960815)], [[[62.0, 288.0], [460.0, 288.0], [460.0, 312.0], [62.0, 312.0]], ('HOUSE NO.R 86 SECRO R V GULSHAN', 0.9171682596206665)], [[[957.0, 292.0], [1085.0, 292.0], [1085.0, 319.0], [957.0, 319.0]], ('Account No:', 0.9328449368476868)], [[[1182.0, 287.0], [1322.0, 290.0], [1321.0, 317.0], [1181.0, 314.0]], ('000216398212', 0.9952719807624817)], [[[62.0, 314.0], [290.0, 314.0], [290.0, 339.0], [62.0, 339.0]], ('E MAYMAR KARACHI', 0.9574037790298462)], [[[955.0, 322.0], [1103.0, 322.0], [1103.0, 348.0], [955.0, 348.0]], ('Account Type:', 0.9344101548194885)], [[[1184.0, 319.0], [1297.0, 319.0], [1297.0, 346.0], [1184.0, 346.0]], ('CURRENT', 0.9963153004646301)], [[[953.0, 346.0], [1100.0, 346.0], [1100.0, 373.0], [953.0, 373.0]], ('Product Type:', 0.9409990906715393)], [[[1181.0, 346.0], [1437.0, 346.0], [1437.0, 370.0], [1181.0, 370.0]], ('BUSINESS PARTNER PLUS', 0.9734415411949158)], [[[953.0, 367.0], [1064.0, 373.0], [1062.0, 400.0], [952.0, 394.0]], ('Currency:', 0.9427124857902527)], [[[1184.0, 370.0], [1388.0, 370.0], [1388.0, 395.0], [1184.0, 395.0]], ('PAKISTANI RUPEE', 0.9674111008644104)], [[[62.0, 397.0], [209.0, 397.0], [209.0, 422.0], [62.0, 422.0]], ('Reg Cell No', 0.9301537871360779)], [[[207.0, 400.0], [337.0, 400.0], [337.0, 424.0], [207.0, 424.0]], ('03352677874', 0.994117021560669)], [[[953.0, 397.0], [1041.0, 397.0], [1041.0, 424.0], [953.0, 424.0]], ('Balance:', 0.9621486663818359)], [[[1181.0, 395.0], [1317.0, 395.0], [1317.0, 422.0], [1181.0, 422.0]], ('335,850.95 Cr', 0.9842063188552856)], [[[57.0, 421.0], [672.0, 424.0], [672.0, 456.0], [57.0, 453.0]], ('IBAN NoPK74 UNIL 0109 0002 1639 8212CIF#:24094237', 0.9391634464263916)], [[[957.0, 422.0], [1024.0, 422.0], [1024.0, 448.0], [957.0, 448.0]], ('Asof', 0.9870389699935913)], [[[1184.0, 422.0], [1312.0, 422.0], [1312.0, 446.0], [1184.0, 446.0]], ('30-APR-2021', 0.9962936043739319)], [[[121.0, 548.0], [177.0, 548.0], [177.0, 577.0], [121.0, 577.0]], ('Date', 0.9971936941146851)], [[[448.0, 548.0], [569.0, 548.0], [569.0, 575.0], [448.0, 575.0]], ('Particulars', 0.9954095482826233)], [[[836.0, 545.0], [929.0, 551.0], [926.0, 585.0], [834.0, 579.0]], ('Inst No.', 0.9671686291694641)], [[[1026.0, 553.0], [1090.0, 553.0], [1090.0, 582.0], [1026.0, 582.0]], ('Debit', 0.9959619641304016)], [[[1226.0, 556.0], [1300.0, 556.0], [1300.0, 582.0], [1226.0, 582.0]], ('Credit', 0.9955275058746338)], [[[1442.0, 556.0], [1531.0, 556.0], [1531.0, 582.0], [1442.0, 582.0]], ('Balance', 0.9970718026161194)], [[[69.0, 585.0], [204.0, 585.0], [204.0, 612.0], [69.0, 612.0]], ('01-JAN-2021', 0.9813310503959656)], [[[241.0, 585.0], [527.0, 590.0], [526.0, 614.0], [241.0, 609.0]], ('**OPENINGBALANCE*', 0.9702244997024536)], [[[1457.0, 594.0], [1602.0, 594.0], [1602.0, 621.0], [1457.0, 621.0]], ('384,846.77 Cr', 0.9348840713500977)], [[[69.0, 614.0], [204.0, 614.0], [204.0, 641.0], [69.0, 641.0]], ('02-JAN-2021', 0.9832053780555725)], [[[236.0, 614.0], [679.0, 616.0], [679.0, 643.0], [236.0, 641.0]], ('POS UBL UPI CARD-UBL POS AT ZEEN', 0.9309715628623962)], [[[1071.0, 619.0], [1162.0, 619.0], [1162.0, 646.0], [1071.0, 646.0]], ('2,490.00', 0.9729499816894531)], [[[1460.0, 621.0], [1605.0, 624.0], [1604.0, 651.0], [1459.0, 648.0]], ('382,356.77 Cr', 0.9203912019729614)], [[[241.0, 638.0], [438.0, 641.0], [438.0, 668.0], [241.0, 665.0]], ('KARACHIPAK', 0.9926784634590149)], [[[71.0, 665.0], [204.0, 665.0], [204.0, 690.0], [71.0, 690.0]], ('03-JAN-2021', 0.9868722558021545)], [[[239.0, 663.0], [768.0, 665.0], [768.0, 692.0], [239.0, 689.0]], ('POS UBL UPI CARD-UBL POS AT MCDONALDS', 0.9336769580841064)], [[[1073.0, 670.0], [1162.0, 670.0], [1162.0, 697.0], [1073.0, 697.0]], ('1,520.00', 0.975629448890686)], [[[1462.0, 672.0], [1605.0, 672.0], [1605.0, 699.0], [1462.0, 699.0]], ('380,836.77C', 0.9578044414520264)], [[[239.0, 690.0], [372.0, 690.0], [372.0, 714.0], [239.0, 714.0]], ('PAKISTAN', 0.9963819980621338)], [[[391.0, 692.0], [586.0, 692.0], [586.0, 716.0], [391.0, 716.0]], ('KARACHIPAK', 0.9931638836860657)], [[[69.0, 716.0], [202.0, 716.0], [202.0, 741.0], [69.0, 741.0]], ('03-JAN-2021', 0.99324631690979)], [[[234.0, 711.0], [704.0, 716.0], [704.0, 748.0], [234.0, 743.0]], ('POS UBL UPI CARD-UBLPOS AT SALMA', 0.9412579536437988)], [[[1071.0, 721.0], [1159.0, 721.0], [1159.0, 748.0], [1071.0, 748.0]], ('6,775.00', 0.9727258682250977)], [[[1462.0, 724.0], [1602.0, 724.0], [1602.0, 750.0], [1462.0, 750.0]], ('374,061.77 Cr', 0.8934792876243591)], [[[239.0, 746.0], [569.0, 746.0], [569.0, 770.0], [239.0, 770.0]], ('SUPERMARKETKARACHI', 0.9929450154304504)], [[[586.0, 748.0], [655.0, 748.0], [655.0, 772.0], [586.0, 772.0]], ('PAK', 0.9975393414497375)], [[[64.0, 770.0], [202.0, 770.0], [202.0, 794.0], [64.0, 794.0]], ('04-JAN-2021', 0.985334575176239)], [[[239.0, 772.0], [576.0, 772.0], [576.0, 797.0], [239.0, 797.0]], ('CASH WITHDRAWAL-1 LINK', 0.9385676980018616)], [[[1056.0, 775.0], [1157.0, 775.0], [1157.0, 802.0], [1056.0, 802.0]], ('20,000.00', 0.9767618179321289)], [[[1460.0, 777.0], [1602.0, 777.0], [1602.0, 802.0], [1460.0, 802.0]], ('354,061.77Cr', 0.9156028628349304)], [[[64.0, 797.0], [202.0, 797.0], [202.0, 824.0], [64.0, 824.0]], ('04-JAN-2021', 0.9892215132713318)], [[[241.0, 799.0], [537.0, 799.0], [537.0, 824.0], [241.0, 824.0]], ('ILINK WITHDRAWALFEE', 0.9615983366966248)], [[[1098.0, 802.0], [1159.0, 802.0], [1159.0, 828.0], [1098.0, 828.0]], ('18.75', 0.9956170916557312)], [[[1460.0, 804.0], [1602.0, 804.0], [1602.0, 831.0], [1460.0, 831.0]], ('354,043.02C', 0.9633849859237671)], [[[64.0, 824.0], [202.0, 824.0], [202.0, 850.0], [64.0, 850.0]], ('04-JAN-2021', 0.989283561706543)], [[[236.0, 824.0], [573.0, 824.0], [573.0, 855.0], [236.0, 855.0]], ('CASH WITHDRAWAL-1 LINK', 0.9646949768066406)], [[[1058.0, 828.0], [1159.0, 828.0], [1159.0, 855.0], [1058.0, 855.0]], ('10,000.00', 0.95639568567276)], [[[1460.0, 831.0], [1600.0, 831.0], [1600.0, 858.0], [1460.0, 858.0]], ('344,043.02Cr', 0.9284624457359314)], [[[64.0, 853.0], [202.0, 853.0], [202.0, 880.0], [64.0, 880.0]], ('04-JAN-2021', 0.9874017238616943)], [[[239.0, 853.0], [537.0, 853.0], [537.0, 877.0], [239.0, 877.0]], ('ILINK WITHDRAWALFEE', 0.956886887550354)], [[[1098.0, 855.0], [1159.0, 855.0], [1159.0, 882.0], [1098.0, 882.0]], ('18.75', 0.9950509071350098)], [[[1457.0, 855.0], [1597.0, 855.0], [1597.0, 882.0], [1457.0, 882.0]], ('344.024.27 C', 0.9199047684669495)], [[[64.0, 880.0], [202.0, 880.0], [202.0, 906.0], [64.0, 906.0]], ('07-JAN-2021', 0.9875921010971069)], [[[239.0, 880.0], [569.0, 880.0], [569.0, 904.0], [239.0, 904.0]], ('CASHWITHDRAWAL-1LINK', 0.9712346196174622)], [[[1068.0, 884.0], [1159.0, 884.0], [1159.0, 911.0], [1068.0, 911.0]], ('5,000.00', 0.9619054794311523)], [[[1460.0, 887.0], [1602.0, 887.0], [1602.0, 911.0], [1460.0, 911.0]], ('339,024.27 Cr', 0.8890549540519714)], [[[62.0, 906.0], [199.0, 906.0], [199.0, 933.0], [62.0, 933.0]], ('07-JAN-2021', 0.9887439608573914)], [[[239.0, 909.0], [534.0, 909.0], [534.0, 933.0], [239.0, 933.0]], ('ILINK WITHDRAWALFEE', 0.9641496539115906)], [[[1095.0, 911.0], [1157.0, 911.0], [1157.0, 938.0], [1095.0, 938.0]], ('18.75', 0.9940558671951294)], [[[1460.0, 914.0], [1602.0, 914.0], [1602.0, 938.0], [1460.0, 938.0]], ('339,005.52Cr', 0.9396520256996155)], [[[64.0, 933.0], [202.0, 933.0], [202.0, 960.0], [64.0, 960.0]], ('07-JAN-2021', 0.9890723824501038)], [[[239.0, 936.0], [716.0, 936.0], [716.0, 960.0], [239.0, 960.0]], ('POS UBLUPI CARD-UBLPOS ATSUBWAY', 0.9524358510971069)], [[[1085.0, 938.0], [1157.0, 938.0], [1157.0, 965.0], [1085.0, 965.0]], ('990.00', 0.9967849254608154)], [[[1457.0, 940.0], [1602.0, 940.0], [1602.0, 967.0], [1457.0, 967.0]], ('338,015.52 C', 0.9240787625312805)], [[[254.0, 957.0], [465.0, 960.0], [465.0, 987.0], [253.0, 984.0]], ('KARACHIPAK', 0.990706741809845)], [[[66.0, 984.0], [199.0, 984.0], [199.0, 1009.0], [66.0, 1009.0]], ('10-JAN-2021', 0.9912298321723938)], [[[236.0, 987.0], [569.0, 987.0], [569.0, 1011.0], [236.0, 1011.0]], ('CASH WITHDRAWAL-1LINK', 0.9622706174850464)], [[[1068.0, 989.0], [1157.0, 989.0], [1157.0, 1016.0], [1068.0, 1016.0]], ('5,000.00', 0.9625938534736633)], [[[1457.0, 989.0], [1602.0, 989.0], [1602.0, 1016.0], [1457.0, 1016.0]], ('333,015.52 C', 0.9303627014160156)], [[[64.0, 1011.0], [202.0, 1011.0], [202.0, 1038.0], [64.0, 1038.0]], ('10-JAN-2021', 0.9875227212905884)], [[[236.0, 1014.0], [532.0, 1014.0], [532.0, 1038.0], [236.0, 1038.0]], ('ILINK WITHDRAWAL FEE', 0.9431613087654114)], [[[1095.0, 1016.0], [1157.0, 1016.0], [1157.0, 1043.0], [1095.0, 1043.0]], ('18.75', 0.9947112798690796)], [[[1460.0, 1018.0], [1600.0, 1018.0], [1600.0, 1043.0], [1460.0, 1043.0]], ('332,996.77 C', 0.9511866569519043)], [[[66.0, 1038.0], [199.0, 1038.0], [199.0, 1065.0], [66.0, 1065.0]], ('14-JAN-2021', 0.9899181127548218)], [[[234.0, 1040.0], [569.0, 1040.0], [569.0, 1065.0], [234.0, 1065.0]], ('CASH WITHDRAWAL-I LINK', 0.9386057257652283)], [[[1066.0, 1043.0], [1157.0, 1043.0], [1157.0, 1070.0], [1066.0, 1070.0]], ('3,000.00', 0.9681123495101929)], [[[1457.0, 1043.0], [1602.0, 1045.0], [1602.0, 1072.0], [1457.0, 1069.0]], ('329,996.77 C', 0.9617487788200378)], [[[66.0, 1065.0], [202.0, 1065.0], [202.0, 1092.0], [66.0, 1092.0]], ('14-JAN-2021', 0.987602174282074)], [[[236.0, 1067.0], [534.0, 1067.0], [534.0, 1092.0], [236.0, 1092.0]], ('ILINK WITHDRAWAL FEE', 0.9469502568244934)], [[[1095.0, 1070.0], [1157.0, 1070.0], [1157.0, 1096.0], [1095.0, 1096.0]], ('18.75', 0.9941325187683105)], [[[1460.0, 1072.0], [1600.0, 1072.0], [1600.0, 1099.0], [1460.0, 1099.0]], ('329,978.02 C', 0.9655933976173401)], [[[66.0, 1094.0], [199.0, 1094.0], [199.0, 1118.0], [66.0, 1118.0]], ('14-JAN-2021', 0.9905540943145752)], [[[234.0, 1091.0], [699.0, 1094.0], [699.0, 1121.0], [234.0, 1118.0]], ('POS UBL UPI CARD-UBL POS AT SALMA', 0.9244201183319092)], [[[1068.0, 1096.0], [1157.0, 1096.0], [1157.0, 1123.0], [1068.0, 1123.0]], ('3,986.00', 0.981640100479126)], [[[1457.0, 1099.0], [1600.0, 1099.0], [1600.0, 1126.0], [1457.0, 1126.0]], ('325,992.02 C', 0.9676443934440613)], [[[234.0, 1121.0], [448.0, 1121.0], [448.0, 1145.0], [234.0, 1145.0]], ('SUPERMARKETS', 0.9532928466796875)], [[[591.0, 1121.0], [650.0, 1121.0], [650.0, 1148.0], [591.0, 1148.0]], ('PAK', 0.9979693293571472)], [[[66.0, 1145.0], [202.0, 1145.0], [202.0, 1172.0], [66.0, 1172.0]], ('15-JAN-2021', 0.9874074459075928)], [[[234.0, 1145.0], [573.0, 1145.0], [573.0, 1177.0], [234.0, 1177.0]], ('CASH WITHDRAWAL-1 LINK', 0.9519580602645874)], [[[1058.0, 1148.0], [1154.0, 1148.0], [1154.0, 1174.0], [1058.0, 1174.0]], ('10,000.00', 0.9741060733795166)], [[[1457.0, 1150.0], [1600.0, 1150.0], [1600.0, 1177.0], [1457.0, 1177.0]], ('315,992.02 C', 0.9497925639152527)], [[[66.0, 1174.0], [194.0, 1174.0], [194.0, 1199.0], [66.0, 1199.0]], ('15-JAN-2021', 0.9620962738990784)], [[[234.0, 1172.0], [534.0, 1174.0], [534.0, 1201.0], [234.0, 1199.0]], ('ILINK WITHDRAWAL FEE', 0.9474340677261353)], [[[1095.0, 1177.0], [1157.0, 1177.0], [1157.0, 1204.0], [1095.0, 1204.0]], ('18.75', 0.9914190173149109)], [[[1457.0, 1179.0], [1597.0, 1179.0], [1597.0, 1206.0], [1457.0, 1206.0]], ('315,973.27 Cr', 0.9520222544670105)], [[[64.0, 1196.0], [197.0, 1199.0], [197.0, 1226.0], [64.0, 1223.0]], ('17-JAN-2021', 0.9871814250946045)], [[[229.0, 1199.0], [758.0, 1201.0], [758.0, 1228.0], [229.0, 1226.0]], ('POS UBLUPI CARD-UBLPOS AT CAMBRIDGE', 0.9331132173538208)], [[[1068.0, 1204.0], [1157.0, 1204.0], [1157.0, 1230.0], [1068.0, 1230.0]], ('4,895.00', 0.9583196640014648)], [[[1457.0, 1206.0], [1600.0, 1206.0], [1600.0, 1233.0], [1457.0, 1233.0]], ('311,078.27 C', 0.9202490448951721)], [[[276.0, 1228.0], [401.0, 1228.0], [401.0, 1252.0], [276.0, 1252.0]], ('KARACHI', 0.9844173192977905)], [[[396.0, 1228.0], [485.0, 1228.0], [485.0, 1252.0], [396.0, 1252.0]], ('PAK', 0.997084379196167)], [[[66.0, 1250.0], [197.0, 1250.0], [197.0, 1274.0], [66.0, 1274.0]], ('18-JAN-2021', 0.9902074933052063)], [[[234.0, 1250.0], [573.0, 1250.0], [573.0, 1282.0], [234.0, 1282.0]], ('CASH WITHDRAWAL-1 LINK', 0.9489027261734009)], [[[1066.0, 1255.0], [1157.0, 1255.0], [1157.0, 1282.0], [1066.0, 1282.0]], ('3,000.00', 0.954048216342926)], [[[1457.0, 1257.0], [1600.0, 1257.0], [1600.0, 1282.0], [1457.0, 1282.0]], ('308,078.27C', 0.9533697366714478)], [[[66.0, 1277.0], [197.0, 1277.0], [197.0, 1301.0], [66.0, 1301.0]], ('18-JAN-2021', 0.9884498119354248)], [[[234.0, 1277.0], [534.0, 1279.0], [534.0, 1306.0], [234.0, 1303.0]], ('ILINK WITHDRAWAL FEE', 0.9576727747917175)], [[[1095.0, 1282.0], [1157.0, 1282.0], [1157.0, 1308.0], [1095.0, 1308.0]], ('18.75', 0.9930604696273804)], [[[1457.0, 1284.0], [1597.0, 1284.0], [1597.0, 1311.0], [1457.0, 1311.0]], ('308,059.52 Cr', 0.9137154817581177)], [[[64.0, 1306.0], [202.0, 1306.0], [202.0, 1330.0], [64.0, 1330.0]], ('19-JAN-2021', 0.9905000329017639)], [[[234.0, 1308.0], [780.0, 1308.0], [780.0, 1333.0], [234.0, 1333.0]], ('POS UBLUPI CARD-UBLPOSATNISHATLINEN', 0.9685730934143066)], [[[1068.0, 1308.0], [1157.0, 1308.0], [1157.0, 1335.0], [1068.0, 1335.0]], ('5,500.00', 0.9746073484420776)], [[[1457.0, 1311.0], [1600.0, 1311.0], [1600.0, 1338.0], [1457.0, 1338.0]], ('302,559.52C', 0.9663997888565063)], [[[293.0, 1335.0], [485.0, 1335.0], [485.0, 1360.0], [293.0, 1360.0]], ('KARACHI PAK', 0.9418860077857971)], [[[66.0, 1360.0], [199.0, 1360.0], [199.0, 1384.0], [66.0, 1384.0]], ('19-JAN-2021', 0.9880674481391907)], [[[231.0, 1355.0], [711.0, 1357.0], [711.0, 1389.0], [231.0, 1386.0]], ('POS UBL UPI CARD-UBL POS AT KHAADI', 0.9374739527702332)], [[[1066.0, 1360.0], [1154.0, 1360.0], [1154.0, 1386.0], [1066.0, 1386.0]], ('2,990.00', 0.9767706394195557)], [[[1457.0, 1362.0], [1600.0, 1362.0], [1600.0, 1389.0], [1457.0, 1389.0]], ('299,569.52 Cr', 0.921138346195221)], [[[258.0, 1386.0], [495.0, 1386.0], [495.0, 1411.0], [258.0, 1411.0]], ('KARACHIPAK', 0.9903764724731445)], [[[66.0, 1413.0], [197.0, 1413.0], [197.0, 1438.0], [66.0, 1438.0]], ('19-JAN-2021', 0.9912068843841553)], [[[234.0, 1413.0], [569.0, 1413.0], [569.0, 1438.0], [234.0, 1438.0]], ('CASH WITHDRAWAL-1LINK', 0.9482089281082153)], [[[1066.0, 1413.0], [1154.0, 1413.0], [1154.0, 1440.0], [1066.0, 1440.0]], ('2,000.00', 0.9741209745407104)], [[[1455.0, 1413.0], [1600.0, 1413.0], [1600.0, 1440.0], [1455.0, 1440.0]], ('297,569.52 Cr', 0.9141563177108765)], [[[64.0, 1440.0], [197.0, 1440.0], [197.0, 1464.0], [64.0, 1464.0]], ('19-JAN-2021', 0.9904320240020752)], [[[231.0, 1438.0], [534.0, 1438.0], [534.0, 1469.0], [231.0, 1469.0]], ('ILINK WITHDRAWAL FEE', 0.9487273097038269)], [[[1095.0, 1440.0], [1154.0, 1440.0], [1154.0, 1467.0], [1095.0, 1467.0]], ('18.75', 0.995295524597168)], [[[1455.0, 1440.0], [1597.0, 1440.0], [1597.0, 1467.0], [1455.0, 1467.0]], ('297,550.77.Cn', 0.9013038873672485)], [[[64.0, 1464.0], [197.0, 1464.0], [197.0, 1489.0], [64.0, 1489.0]], ('22-JAN-2021', 0.9920940399169922)], [[[231.0, 1464.0], [569.0, 1467.0], [568.0, 1494.0], [231.0, 1491.0]], ('CASH WITHDRAWAL-1LINK', 0.9549095630645752)], [[[1066.0, 1467.0], [1154.0, 1467.0], [1154.0, 1494.0], [1066.0, 1494.0]], ('3,000.00', 0.9781816601753235)], [[[1455.0, 1469.0], [1597.0, 1469.0], [1597.0, 1494.0], [1455.0, 1494.0]], ('294,550.77 C', 0.93753981590271)], [[[64.0, 1489.0], [194.0, 1489.0], [194.0, 1515.0], [64.0, 1515.0]], ('22-JAN-2021', 0.9855020046234131)], [[[234.0, 1496.0], [534.0, 1496.0], [534.0, 1520.0], [234.0, 1520.0]], ('ILINK WITHDRAWALFEE', 0.9558150768280029)], [[[1095.0, 1494.0], [1154.0, 1494.0], [1154.0, 1523.0], [1095.0, 1523.0]], ('18.75', 0.9953075647354126)], [[[1457.0, 1496.0], [1597.0, 1496.0], [1597.0, 1523.0], [1457.0, 1523.0]], ('294,532.02 C', 0.9353808760643005)], [[[62.0, 1520.0], [199.0, 1520.0], [199.0, 1545.0], [62.0, 1545.0]], ('24-JAN-2021', 0.9903914928436279)], [[[234.0, 1518.0], [729.0, 1518.0], [729.0, 1542.0], [234.0, 1542.0]], ('POSUBLUPICARD-UBLPOS AT BONANZA', 0.958066463470459)], [[[1068.0, 1523.0], [1157.0, 1523.0], [1157.0, 1547.0], [1068.0, 1547.0]], ('1,668.00', 0.9726436138153076)], [[[1455.0, 1520.0], [1600.0, 1523.0], [1600.0, 1550.0], [1454.0, 1547.0]], ('292,864.02 Cr', 0.923730194568634)], [[[258.0, 1547.0], [470.0, 1547.0], [470.0, 1572.0], [258.0, 1572.0]], ('KARACHIPAK', 0.9942347407341003)], [[[64.0, 1569.0], [194.0, 1569.0], [194.0, 1593.0], [64.0, 1593.0]], ('24-JAN-2021', 0.9886578917503357)], [[[236.0, 1574.0], [756.0, 1574.0], [756.0, 1598.0], [236.0, 1598.0]], ('POS UBLUPI CARD-UBLPOS ATOUTFITTERS', 0.954620897769928)], [[[1063.0, 1569.0], [1157.0, 1569.0], [1157.0, 1603.0], [1063.0, 1603.0]], ('2,580.00', 0.9825300574302673)], [[[1457.0, 1574.0], [1592.0, 1574.0], [1592.0, 1601.0], [1457.0, 1601.0]], ('290,284.02 C', 0.9135940670967102)], [[[266.0, 1598.0], [386.0, 1598.0], [386.0, 1623.0], [266.0, 1623.0]], ('KARACHI', 0.9930607676506042)], [[[411.0, 1601.0], [473.0, 1601.0], [473.0, 1623.0], [411.0, 1623.0]], ('PAK', 0.9974715113639832)], [[[64.0, 1623.0], [197.0, 1623.0], [197.0, 1649.0], [64.0, 1649.0]], ('24-JAN-2021', 0.9939502477645874)], [[[234.0, 1625.0], [743.0, 1625.0], [743.0, 1649.0], [234.0, 1649.0]], ('POSUBLUPI CARD-UBLPOSATLIMELIGHT', 0.9779571890830994)], [[[1068.0, 1623.0], [1154.0, 1623.0], [1154.0, 1649.0], [1068.0, 1649.0]], ('1,995.00', 0.980667769908905)], [[[1455.0, 1625.0], [1597.0, 1625.0], [1597.0, 1649.0], [1455.0, 1649.0]], ('288,289.02 C', 0.9390726089477539)], [[[263.0, 1649.0], [382.0, 1649.0], [382.0, 1674.0], [263.0, 1674.0]], ('KARACHI', 0.9978951811790466)], [[[401.0, 1649.0], [468.0, 1649.0], [468.0, 1674.0], [401.0, 1674.0]], ('PAK', 0.9975416660308838)], [[[62.0, 1674.0], [199.0, 1674.0], [199.0, 1701.0], [62.0, 1701.0]], ('24-JAN-2021', 0.9916152358055115)], [[[231.0, 1674.0], [709.0, 1671.0], [709.0, 1698.0], [231.0, 1701.0]], ('POS UBL UPI CARD-UBL POS AT DUNKIN', 0.9397811889648438)], [[[1083.0, 1674.0], [1154.0, 1674.0], [1154.0, 1701.0], [1083.0, 1701.0]], ('469.00', 0.9980530142784119)], [[[1455.0, 1676.0], [1597.0, 1676.0], [1597.0, 1701.0], [1455.0, 1701.0]], ('287,820.02 C', 0.92073655128479)], [[[234.0, 1701.0], [362.0, 1701.0], [362.0, 1725.0], [234.0, 1725.0]], ('DONUTS', 0.9954679608345032)], [[[364.0, 1701.0], [603.0, 1701.0], [603.0, 1725.0], [364.0, 1725.0]], ('KARACHIPAK', 0.992774486541748)], [[[64.0, 1725.0], [199.0, 1725.0], [199.0, 1749.0], [64.0, 1749.0]], ('24-JAN-2021', 0.9912906289100647)], [[[234.0, 1723.0], [775.0, 1723.0], [775.0, 1747.0], [234.0, 1747.0]], ('POSUBLUPI CARD-UBLPOSATIMTIAZSUPER', 0.9796067476272583)], [[[1066.0, 1725.0], [1154.0, 1725.0], [1154.0, 1752.0], [1066.0, 1752.0]], ('1,569.60', 0.9934221506118774)], [[[1452.0, 1723.0], [1597.0, 1723.0], [1597.0, 1749.0], [1452.0, 1749.0]], ('286.250.42 Cr', 0.9021058678627014)], [[[231.0, 1752.0], [482.0, 1752.0], [482.0, 1776.0], [231.0, 1776.0]], ('MARKETKARACHI', 0.9922362565994263)], [[[475.0, 1752.0], [561.0, 1752.0], [561.0, 1776.0], [475.0, 1776.0]], ('PAK', 0.9977588057518005)], [[[66.0, 1776.0], [199.0, 1776.0], [199.0, 1801.0], [66.0, 1801.0]], ('24-JAN-2021', 0.9929664134979248)], [[[231.0, 1774.0], [775.0, 1771.0], [775.0, 1803.0], [231.0, 1805.0]], ('POS UBL UPI CARD-UBL POS AT IMTIAZ SUPER', 0.9316701889038086)], [[[1060.0, 1772.0], [1153.0, 1766.0], [1155.0, 1800.0], [1062.0, 1806.0]], ('3,208.00', 0.9383598566055298)], [[[1457.0, 1776.0], [1595.0, 1776.0], [1595.0, 1803.0], [1457.0, 1803.0]], ('283,042.42Cr', 0.9034188389778137)], [[[231.0, 1803.0], [480.0, 1803.0], [480.0, 1827.0], [231.0, 1827.0]], ('MARKETKARACHI', 0.9906798005104065)], [[[502.0, 1805.0], [559.0, 1805.0], [559.0, 1825.0], [502.0, 1825.0]], ('PAK', 0.9971626400947571)], [[[64.0, 1827.0], [199.0, 1827.0], [199.0, 1852.0], [64.0, 1852.0]], ('25-JAN-2021', 0.9941601157188416)], [[[231.0, 1822.0], [569.0, 1822.0], [569.0, 1854.0], [231.0, 1854.0]], ('CASH WITHDRAWAL-1LINK', 0.9395189881324768)], [[[1063.0, 1827.0], [1154.0, 1827.0], [1154.0, 1854.0], [1063.0, 1854.0]], ('3,000.00', 0.958472490310669)], [[[1455.0, 1827.0], [1597.0, 1827.0], [1597.0, 1854.0], [1455.0, 1854.0]], ('280,042.42 C', 0.9363060593605042)], [[[66.0, 1852.0], [194.0, 1852.0], [194.0, 1876.0], [66.0, 1876.0]], ('25-JAN-2021', 0.9753709435462952)], [[[1088.0, 1854.0], [1154.0, 1854.0], [1154.0, 1881.0], [1088.0, 1881.0]], ('18.75', 0.9919854402542114)], [[[1455.0, 1852.0], [1592.0, 1852.0], [1592.0, 1879.0], [1455.0, 1879.0]], ('280,023.67 C', 0.9035113453865051)], [[[64.0, 1883.0], [197.0, 1883.0], [197.0, 1908.0], [64.0, 1908.0]], ('26-JAN-2021', 0.9948915839195251)], [[[234.0, 1883.0], [706.0, 1883.0], [706.0, 1908.0], [234.0, 1908.0]], ('POS UBLUPI CARD-UBLPOS AT KHAADI', 0.9461567401885986)], [[[1063.0, 1881.0], [1154.0, 1881.0], [1154.0, 1908.0], [1063.0, 1908.0]], ('3,990.00', 0.9744963049888611)], [[[1455.0, 1881.0], [1597.0, 1881.0], [1597.0, 1908.0], [1455.0, 1908.0]], ('276,033.67 Cr', 0.9114866852760315)], [[[239.0, 1908.0], [364.0, 1908.0], [364.0, 1935.0], [239.0, 1935.0]], ('KARACHI', 0.996276319026947)], [[[389.0, 1908.0], [448.0, 1908.0], [448.0, 1935.0], [389.0, 1935.0]], ('PAK', 0.9977983832359314)], [[[64.0, 1932.0], [197.0, 1929.0], [197.0, 1956.0], [64.0, 1959.0]], ('26-JAN-2021', 0.995090663433075)], [[[236.0, 1935.0], [674.0, 1935.0], [674.0, 1959.0], [236.0, 1959.0]], ('POS UBLUPI CARD-UBLPOS ATZEEN', 0.9528723955154419)], [[[1063.0, 1927.0], [1154.0, 1927.0], [1154.0, 1961.0], [1063.0, 1961.0]], ('1,750.00', 0.9825749397277832)], [[[1457.0, 1932.0], [1595.0, 1932.0], [1595.0, 1959.0], [1457.0, 1959.0]], ('274,283.67 Cr', 0.9146420359611511)], [[[234.0, 1959.0], [352.0, 1959.0], [352.0, 1983.0], [234.0, 1983.0]], ('KARACHI', 0.9859412312507629)], [[[382.0, 1961.0], [438.0, 1961.0], [438.0, 1981.0], [382.0, 1981.0]], ('PAK', 0.9986283779144287)], [[[62.0, 1983.0], [197.0, 1983.0], [197.0, 2008.0], [62.0, 2008.0]], ('28-JAN-2021', 0.9884348511695862)], [[[229.0, 1983.0], [566.0, 1981.0], [566.0, 2008.0], [229.0, 2010.0]], ('CASH WITHDRAWAL-1 LINK', 0.93594890832901)], [[[1063.0, 1983.0], [1154.0, 1983.0], [1154.0, 2010.0], [1063.0, 2010.0]], ('3,000.00', 0.9571701884269714)], [[[1452.0, 1978.0], [1597.0, 1978.0], [1597.0, 2032.0], [1452.0, 2032.0]], ('27.283.67.c', 0.7013295888900757)], [[[57.0, 2064.0], [1248.0, 2064.0], [1248.0, 2095.0], [57.0, 2095.0]], ('Note: The items and balance shown on this statement should be verified and the branch manager notified within 2 weeks of any', 0.9455788731575012)], [[[57.0, 2093.0], [569.0, 2093.0], [569.0, 2117.0], [57.0, 2117.0]], ('discrepancies, otherwise it will be assumed as correct.', 0.9327302575111389)], [[[960.0, 2139.0], [1194.0, 2139.0], [1194.0, 2183.0], [960.0, 2183.0]], ('111-825-888', 0.9573166370391846)], [[[1177.0, 2137.0], [1556.0, 2137.0], [1556.0, 2186.0], [1177.0, 2186.0]], ('Visit your nearest hranch', 0.8950251936912537)]]\n"
          ]
        }
      ]
    },
    {
      "cell_type": "code",
      "source": [
        "boxes = [line[0] for line in output]\n",
        "texts = [line[1][0] for line in output]\n",
        "probabilities = [line[1][1] for line in output]"
      ],
      "metadata": {
        "id": "nNMBAQ78LDgG"
      },
      "execution_count": null,
      "outputs": []
    },
    {
      "cell_type": "code",
      "source": [
        "image_boxes = image_cv.copy()"
      ],
      "metadata": {
        "id": "uukcg4SWV_dg"
      },
      "execution_count": null,
      "outputs": []
    },
    {
      "cell_type": "code",
      "source": [
        "for box,text in zip(boxes,texts):\n",
        "  cv2.rectangle(image_boxes, (int(box[0][0]),int(box[0][1])), (int(box[2][0]),int(box[2][1])),(0,0,255),1)\n",
        "  cv2.putText(image_boxes, text,(int(box[0][0]),int(box[0][1])),cv2.FONT_HERSHEY_SIMPLEX,1,(222,0,0),1)"
      ],
      "metadata": {
        "id": "l_HzbiA7V_fw"
      },
      "execution_count": null,
      "outputs": []
    },
    {
      "cell_type": "code",
      "source": [
        "cv2.imwrite('detections.jpg', image_boxes)"
      ],
      "metadata": {
        "colab": {
          "base_uri": "https://localhost:8080/"
        },
        "id": "PfUG9mcgV_iJ",
        "outputId": "37c26701-7ce9-47b5-ba42-c836f80b0fc4"
      },
      "execution_count": null,
      "outputs": [
        {
          "output_type": "execute_result",
          "data": {
            "text/plain": [
              "True"
            ]
          },
          "metadata": {},
          "execution_count": 53
        }
      ]
    },
    {
      "cell_type": "markdown",
      "metadata": {
        "id": "kYWt0lzDHZNp"
      },
      "source": [
        "# Reconstruction"
      ]
    },
    {
      "cell_type": "markdown",
      "source": [
        "## Get Horizontal and Vertical Lines"
      ],
      "metadata": {
        "id": "ruzifYJz4H6y"
      }
    },
    {
      "cell_type": "code",
      "source": [
        "im = image_cv.copy()"
      ],
      "metadata": {
        "id": "YLIoKedcqby_"
      },
      "execution_count": null,
      "outputs": []
    },
    {
      "cell_type": "code",
      "source": [
        "horiz_boxes = []\n",
        "vert_boxes = []\n",
        "\n",
        "for box in boxes:\n",
        "  x_h, x_v = 0,int(box[0][0])\n",
        "  y_h, y_v = int(box[0][1]),0\n",
        "  width_h,width_v = image_width, int(box[2][0]-box[0][0])\n",
        "  height_h,height_v = int(box[2][1]-box[0][1]),image_height\n",
        "\n",
        "  horiz_boxes.append([x_h,y_h,x_h+width_h,y_h+height_h])\n",
        "  vert_boxes.append([x_v,y_v,x_v+width_v,y_v+height_v])\n",
        "\n",
        "  cv2.rectangle(im,(x_h,y_h), (x_h+width_h,y_h+height_h),(0,0,255),1)\n",
        "  cv2.rectangle(im,(x_v,y_v), (x_v+width_v,y_v+height_v),(0,255,0),1)\n",
        "  "
      ],
      "metadata": {
        "id": "GwcAAe-wccnF"
      },
      "execution_count": null,
      "outputs": []
    },
    {
      "cell_type": "code",
      "source": [
        "cv2.imwrite('horiz_vert.jpg',im)"
      ],
      "metadata": {
        "colab": {
          "base_uri": "https://localhost:8080/"
        },
        "id": "7UxFGhMkccph",
        "outputId": "df8a8c39-6b69-4d6c-be6e-06dfd766d9c2"
      },
      "execution_count": null,
      "outputs": [
        {
          "output_type": "execute_result",
          "data": {
            "text/plain": [
              "True"
            ]
          },
          "metadata": {},
          "execution_count": 36
        }
      ]
    },
    {
      "cell_type": "markdown",
      "source": [
        "## Non-Max Suppression"
      ],
      "metadata": {
        "id": "ekVFvJrM4ROL"
      }
    },
    {
      "cell_type": "code",
      "source": [
        "horiz_out = tf.image.non_max_suppression(\n",
        "    horiz_boxes,\n",
        "    probabilities,\n",
        "    max_output_size = 1000,\n",
        "    iou_threshold=0.1,\n",
        "    score_threshold=float('-inf'),\n",
        "    name=None\n",
        ")"
      ],
      "metadata": {
        "id": "4LVSSB2fcoe7"
      },
      "execution_count": null,
      "outputs": []
    },
    {
      "cell_type": "code",
      "source": [
        "horiz_lines = np.sort(np.array(horiz_out))\n",
        "print(horiz_lines)"
      ],
      "metadata": {
        "colab": {
          "base_uri": "https://localhost:8080/"
        },
        "id": "pOboYpGnccr2",
        "outputId": "48ebf96a-7d39-4873-8123-6f90b044d23d"
      },
      "execution_count": null,
      "outputs": [
        {
          "output_type": "stream",
          "name": "stdout",
          "text": [
            "[ 0  2  3  4  5  7  8 11 12 14 17 22 24 25 26 28 30 31 32 33 35 38 40 42]\n"
          ]
        }
      ]
    },
    {
      "cell_type": "code",
      "source": [
        "im_nms = image_cv.copy()"
      ],
      "metadata": {
        "id": "pfxHrn3iccyK"
      },
      "execution_count": null,
      "outputs": []
    },
    {
      "cell_type": "code",
      "source": [
        "for val in horiz_lines:\n",
        "  cv2.rectangle(im_nms, (int(horiz_boxes[val][0]),int(horiz_boxes[val][1])), (int(horiz_boxes[val][2]),int(horiz_boxes[val][3])),(0,0,255),1)\n",
        "  "
      ],
      "metadata": {
        "id": "68PCHfmZcc0L"
      },
      "execution_count": null,
      "outputs": []
    },
    {
      "cell_type": "code",
      "source": [
        "cv2.imwrite('im_nms.jpg',im_nms)"
      ],
      "metadata": {
        "colab": {
          "base_uri": "https://localhost:8080/"
        },
        "id": "Z8r9qpiAcc2X",
        "outputId": "a0b1a8b2-4338-413d-bf18-50b4bd864e44"
      },
      "execution_count": null,
      "outputs": [
        {
          "output_type": "execute_result",
          "data": {
            "text/plain": [
              "True"
            ]
          },
          "metadata": {},
          "execution_count": 41
        }
      ]
    },
    {
      "cell_type": "code",
      "source": [
        "vert_out = tf.image.non_max_suppression(\n",
        "    vert_boxes,\n",
        "    probabilities,\n",
        "    max_output_size = 1000,\n",
        "    iou_threshold=0.1,\n",
        "    score_threshold=float('-inf'),\n",
        "    name=None\n",
        ")"
      ],
      "metadata": {
        "id": "mKgPuh7rcc4s"
      },
      "execution_count": null,
      "outputs": []
    },
    {
      "cell_type": "code",
      "source": [
        "print(vert_out)"
      ],
      "metadata": {
        "colab": {
          "base_uri": "https://localhost:8080/"
        },
        "id": "GBpKsImVcc6p",
        "outputId": "a9676759-204f-45bd-fd89-d178f5c94c17"
      },
      "execution_count": null,
      "outputs": [
        {
          "output_type": "stream",
          "name": "stdout",
          "text": [
            "tf.Tensor([22 40 29 33 18 15], shape=(6,), dtype=int32)\n"
          ]
        }
      ]
    },
    {
      "cell_type": "code",
      "source": [
        "vert_lines = np.sort(np.array(vert_out))\n",
        "print(vert_lines)"
      ],
      "metadata": {
        "colab": {
          "base_uri": "https://localhost:8080/"
        },
        "id": "K0lBh-yz5YLp",
        "outputId": "65786c65-d353-458d-fd6e-a9d90b3dd2e8"
      },
      "execution_count": null,
      "outputs": [
        {
          "output_type": "stream",
          "name": "stdout",
          "text": [
            "[15 18 22 29 33 40]\n"
          ]
        }
      ]
    },
    {
      "cell_type": "code",
      "source": [
        "for val in vert_lines:\n",
        "  cv2.rectangle(im_nms, (int(vert_boxes[val][0]),int(vert_boxes[val][1])), (int(vert_boxes[val][2]),int(vert_boxes[val][3])),(255,0,0),1)\n",
        "  "
      ],
      "metadata": {
        "id": "WqsLm0L_cc84"
      },
      "execution_count": null,
      "outputs": []
    },
    {
      "cell_type": "code",
      "source": [
        "cv2.imwrite('im_nms.jpg',im_nms)"
      ],
      "metadata": {
        "colab": {
          "base_uri": "https://localhost:8080/"
        },
        "id": "xZOEa7lpcdGM",
        "outputId": "7ec9ddd9-05cc-4c38-89b3-85beaafd264e"
      },
      "execution_count": null,
      "outputs": [
        {
          "output_type": "execute_result",
          "data": {
            "text/plain": [
              "True"
            ]
          },
          "metadata": {},
          "execution_count": 41
        }
      ]
    },
    {
      "cell_type": "markdown",
      "source": [
        "## Convert to CSV"
      ],
      "metadata": {
        "id": "116eBUrO93-i"
      }
    },
    {
      "cell_type": "code",
      "source": [
        "out_array = [[\"\" for i in range(len(vert_lines))] for j in range(len(horiz_lines))]\n",
        "print(np.array(out_array).shape)\n",
        "print(out_array)"
      ],
      "metadata": {
        "colab": {
          "base_uri": "https://localhost:8080/"
        },
        "id": "HRQzwVUTcdIq",
        "outputId": "f0ed60f9-9709-458c-ece3-0d0f60408577"
      },
      "execution_count": null,
      "outputs": [
        {
          "output_type": "stream",
          "name": "stdout",
          "text": [
            "(24, 6)\n",
            "[['', '', '', '', '', ''], ['', '', '', '', '', ''], ['', '', '', '', '', ''], ['', '', '', '', '', ''], ['', '', '', '', '', ''], ['', '', '', '', '', ''], ['', '', '', '', '', ''], ['', '', '', '', '', ''], ['', '', '', '', '', ''], ['', '', '', '', '', ''], ['', '', '', '', '', ''], ['', '', '', '', '', ''], ['', '', '', '', '', ''], ['', '', '', '', '', ''], ['', '', '', '', '', ''], ['', '', '', '', '', ''], ['', '', '', '', '', ''], ['', '', '', '', '', ''], ['', '', '', '', '', ''], ['', '', '', '', '', ''], ['', '', '', '', '', ''], ['', '', '', '', '', ''], ['', '', '', '', '', ''], ['', '', '', '', '', '']]\n"
          ]
        }
      ]
    },
    {
      "cell_type": "code",
      "source": [
        "unordered_boxes = []\n",
        "\n",
        "for i in vert_lines:\n",
        "  print(vert_boxes[i])\n",
        "  unordered_boxes.append(vert_boxes[i][0])"
      ],
      "metadata": {
        "colab": {
          "base_uri": "https://localhost:8080/"
        },
        "id": "sSrupaRZIAk_",
        "outputId": "31da2c3f-2af5-4d95-873f-8d66af98083b"
      },
      "execution_count": null,
      "outputs": [
        {
          "output_type": "stream",
          "name": "stdout",
          "text": [
            "[994, 0, 1090, 2336]\n",
            "[435, 0, 600, 2336]\n",
            "[1437, 0, 1532, 2336]\n",
            "[1215, 0, 1328, 2336]\n",
            "[116, 0, 337, 2336]\n",
            "[748, 0, 900, 2336]\n"
          ]
        }
      ]
    },
    {
      "cell_type": "code",
      "source": [
        "ordered_boxes = np.argsort(unordered_boxes)\n",
        "print(ordered_boxes)"
      ],
      "metadata": {
        "colab": {
          "base_uri": "https://localhost:8080/"
        },
        "id": "lRMlVNh_HuJV",
        "outputId": "2200d270-50e2-4ded-d105-c5bff51001af"
      },
      "execution_count": null,
      "outputs": [
        {
          "output_type": "stream",
          "name": "stdout",
          "text": [
            "[4 1 5 0 3 2]\n"
          ]
        }
      ]
    },
    {
      "cell_type": "code",
      "source": [
        "def intersection(box_1, box_2):\n",
        "  return [box_2[0], box_1[1],box_2[2], box_1[3]]"
      ],
      "metadata": {
        "id": "AHHaxKUuC6jQ"
      },
      "execution_count": null,
      "outputs": []
    },
    {
      "cell_type": "code",
      "source": [
        "def iou(box_1, box_2):\n",
        "\n",
        "  x_1 = max(box_1[0], box_2[0])\n",
        "  y_1 = max(box_1[1], box_2[1])\n",
        "  x_2 = min(box_1[2], box_2[2])\n",
        "  y_2 = min(box_1[3], box_2[3])\n",
        "\n",
        "  inter = abs(max((x_2 - x_1, 0)) * max((y_2 - y_1), 0))\n",
        "  if inter == 0:\n",
        "      return 0\n",
        "      \n",
        "  box_1_area = abs((box_1[2] - box_1[0]) * (box_1[3] - box_1[1]))\n",
        "  box_2_area = abs((box_2[2] - box_2[0]) * (box_2[3] - box_2[1]))\n",
        "  \n",
        "  return inter / float(box_1_area + box_2_area - inter)"
      ],
      "metadata": {
        "id": "fDVb0DkxJSIf"
      },
      "execution_count": null,
      "outputs": []
    },
    {
      "cell_type": "code",
      "source": [
        "for i in range(len(horiz_lines)):\n",
        "  for j in range(len(vert_lines)):\n",
        "    resultant = intersection(horiz_boxes[horiz_lines[i]], vert_boxes[vert_lines[ordered_boxes[j]]] )\n",
        "\n",
        "    for b in range(len(boxes)):\n",
        "      the_box = [boxes[b][0][0],boxes[b][0][1],boxes[b][2][0],boxes[b][2][1]]\n",
        "      if(iou(resultant,the_box)>0.1):\n",
        "        out_array[i][j] = texts[b]"
      ],
      "metadata": {
        "id": "LWGhCwg6BIoL"
      },
      "execution_count": null,
      "outputs": []
    },
    {
      "cell_type": "code",
      "source": [
        "out_array=np.array(out_array)"
      ],
      "metadata": {
        "id": "c4tEY9LGNIM9"
      },
      "execution_count": null,
      "outputs": []
    },
    {
      "cell_type": "code",
      "source": [
        "out_array"
      ],
      "metadata": {
        "id": "_ekto4-Ymxv2",
        "outputId": "2396a046-5922-42ad-d45e-bbcbd3912aef",
        "colab": {
          "base_uri": "https://localhost:8080/"
        }
      },
      "execution_count": null,
      "outputs": [
        {
          "output_type": "execute_result",
          "data": {
            "text/plain": [
              "array([['Mayne Maps', '', '', '', '', 'INVOICE'],\n",
              "       ['ABN 4981 5250 249', '', '', '', '', ''],\n",
              "       ['349 Fig Tree Pocket Road', '', '', '', '', ''],\n",
              "       ['Fig Tree Pocket 4069', '', '', '', '', ''],\n",
              "       ['Phone 0409 800 211', '', '', '', '', 'INVOICE #2104'],\n",
              "       ['alan53au@yahoo.com.au', '', '', '', '', 'INVOICE #2104'],\n",
              "       ['ABN:4981 5250 249', '', '', '', 'DATE: AUGUST 31ST, 2022',\n",
              "        'DATE: AUGUST 31ST, 2022'],\n",
              "       ['TO:', '', 'FOR', '', '', ''],\n",
              "       ['Ms Amanda Milton', '', 'Map production for \"NEWLAND\"',\n",
              "        'Map production for \"NEWLAND\"', 'Map production for \"NEWLAND\"',\n",
              "        ''],\n",
              "       ['Elders', '', '', '', '', ''],\n",
              "       ['', 'DESCRIPTION', '', 'HOURS', 'RATE', 'AMOUNT'],\n",
              "       ['6-7/8/2022 Map production for \"NEWLANDS\"',\n",
              "        '6-7/8/2022 Map production for \"NEWLANDS\"', '', '4.75 hours',\n",
              "        '$40 /hr', '$190.00'],\n",
              "       ['GST COMPONENT', '', '', '', '', '$19.00'],\n",
              "       ['', 'INVOICE NUMBER #2104', 'INVOICE NUMBER #2104', '', '', ''],\n",
              "       ['PLEASE QUOTE INVOICE NUMBER WITH EFT PAYMENT',\n",
              "        'PLEASE QUOTE INVOICE NUMBER WITH EFT PAYMENT',\n",
              "        'PLEASE QUOTE INVOICE NUMBER WITH EFT PAYMENT', '', '', ''],\n",
              "       ['N.B. GST component', '', '', '', '', '$0'],\n",
              "       ['', '', '', '', 'TOTAL', '$209.00'],\n",
              "       ['Account details:', '', '', '', '', ''],\n",
              "       ['Name: MAYNE MAPS', '', '', '', '', ''],\n",
              "       ['BSB 034-086', '', 'PLEASE QUOTE', '', '', ''],\n",
              "       ['Account Number: 18-1169', 'Account Number: 18-1169',\n",
              "        'INVOICE NUMBER', '', '', ''],\n",
              "       ['Westpac Bank', '', 'IN TRANSACTION', '',\n",
              "        'N.B. Detailed Time Sheet', ''],\n",
              "       ['', '', 'DETAILS', '', 'Available on request', ''],\n",
              "       ['', '', 'Thank you for your business!', '', '', '']], dtype='<U44')"
            ]
          },
          "metadata": {},
          "execution_count": 52
        }
      ]
    },
    {
      "cell_type": "code",
      "source": [
        "pd.DataFrame(out_array).to_csv('sample.csv')"
      ],
      "metadata": {
        "id": "D8UdX80wBI9V"
      },
      "execution_count": null,
      "outputs": []
    },
    {
      "cell_type": "markdown",
      "source": [
        "## Merging Cells"
      ],
      "metadata": {
        "id": "E693Ela3qhLx"
      }
    },
    {
      "cell_type": "code",
      "source": [
        "current_bank=['']*len(out_array[0,:])\n",
        "print(current_bank)"
      ],
      "metadata": {
        "colab": {
          "base_uri": "https://localhost:8080/"
        },
        "id": "XNcX7fEWPDfw",
        "outputId": "770ebfcb-434b-4843-db6e-9e2ef5ad9c3d"
      },
      "execution_count": null,
      "outputs": [
        {
          "output_type": "stream",
          "name": "stdout",
          "text": [
            "['', '', '', '', '', '']\n"
          ]
        }
      ]
    },
    {
      "cell_type": "code",
      "source": [
        "def empty(arr):\n",
        "  for i in arr:\n",
        "    if i=='':\n",
        "      return True\n",
        "  return False"
      ],
      "metadata": {
        "id": "TTF5ojcCQJKR"
      },
      "execution_count": null,
      "outputs": []
    },
    {
      "cell_type": "code",
      "source": [
        "cleaned_array=[]"
      ],
      "metadata": {
        "id": "3w1amnEXSVSB"
      },
      "execution_count": null,
      "outputs": []
    },
    {
      "cell_type": "code",
      "source": [
        "for i in range(len(out_array)):\n",
        "  if not empty(out_array[i]):\n",
        "    current_bank=[out_array[i][j] for j in range(len(out_array[i]))]\n",
        "    cleaned_array.append(current_bank)\n",
        "    not_empty=True\n",
        "  else:\n",
        "    for j in range(len(out_array[i])):\n",
        "      current_bank[j]+=' '+out_array[i][j]\n",
        "    print('-->',current_bank)\n",
        "cleaned_array=np.array(cleaned_array)\n",
        "print(cleaned_array)"
      ],
      "metadata": {
        "id": "W_q9e2EkPepQ",
        "colab": {
          "base_uri": "https://localhost:8080/"
        },
        "outputId": "1856129c-9623-415e-a250-ab2ea46ef09a"
      },
      "execution_count": null,
      "outputs": [
        {
          "output_type": "stream",
          "name": "stdout",
          "text": [
            "--> [' Mayne Maps', ' ', ' ', ' ', ' ', ' INVOICE']\n",
            "--> [' Mayne Maps ABN 4981 5250 249', '  ', '  ', '  ', '  ', ' INVOICE ']\n",
            "--> [' Mayne Maps ABN 4981 5250 249 349 Fig Tree Pocket Road', '   ', '   ', '   ', '   ', ' INVOICE  ']\n",
            "--> [' Mayne Maps ABN 4981 5250 249 349 Fig Tree Pocket Road Fig Tree Pocket 4069', '    ', '    ', '    ', '    ', ' INVOICE   ']\n",
            "--> [' Mayne Maps ABN 4981 5250 249 349 Fig Tree Pocket Road Fig Tree Pocket 4069 Phone 0409 800 211', '     ', '     ', '     ', '     ', ' INVOICE    INVOICE #2104']\n",
            "--> [' Mayne Maps ABN 4981 5250 249 349 Fig Tree Pocket Road Fig Tree Pocket 4069 Phone 0409 800 211 alan53au@yahoo.com.au', '      ', '      ', '      ', '      ', ' INVOICE    INVOICE #2104 INVOICE #2104']\n",
            "--> [' Mayne Maps ABN 4981 5250 249 349 Fig Tree Pocket Road Fig Tree Pocket 4069 Phone 0409 800 211 alan53au@yahoo.com.au ABN:4981 5250 249', '       ', '       ', '       ', '       DATE: AUGUST 31ST, 2022', ' INVOICE    INVOICE #2104 INVOICE #2104 DATE: AUGUST 31ST, 2022']\n",
            "--> [' Mayne Maps ABN 4981 5250 249 349 Fig Tree Pocket Road Fig Tree Pocket 4069 Phone 0409 800 211 alan53au@yahoo.com.au ABN:4981 5250 249 TO:', '        ', '        FOR', '        ', '       DATE: AUGUST 31ST, 2022 ', ' INVOICE    INVOICE #2104 INVOICE #2104 DATE: AUGUST 31ST, 2022 ']\n",
            "--> [' Mayne Maps ABN 4981 5250 249 349 Fig Tree Pocket Road Fig Tree Pocket 4069 Phone 0409 800 211 alan53au@yahoo.com.au ABN:4981 5250 249 TO: Ms Amanda Milton', '         ', '        FOR Map production for \"NEWLAND\"', '         Map production for \"NEWLAND\"', '       DATE: AUGUST 31ST, 2022  Map production for \"NEWLAND\"', ' INVOICE    INVOICE #2104 INVOICE #2104 DATE: AUGUST 31ST, 2022  ']\n",
            "--> [' Mayne Maps ABN 4981 5250 249 349 Fig Tree Pocket Road Fig Tree Pocket 4069 Phone 0409 800 211 alan53au@yahoo.com.au ABN:4981 5250 249 TO: Ms Amanda Milton Elders', '          ', '        FOR Map production for \"NEWLAND\" ', '         Map production for \"NEWLAND\" ', '       DATE: AUGUST 31ST, 2022  Map production for \"NEWLAND\" ', ' INVOICE    INVOICE #2104 INVOICE #2104 DATE: AUGUST 31ST, 2022   ']\n",
            "--> [' Mayne Maps ABN 4981 5250 249 349 Fig Tree Pocket Road Fig Tree Pocket 4069 Phone 0409 800 211 alan53au@yahoo.com.au ABN:4981 5250 249 TO: Ms Amanda Milton Elders ', '           DESCRIPTION', '        FOR Map production for \"NEWLAND\"  ', '         Map production for \"NEWLAND\"  HOURS', '       DATE: AUGUST 31ST, 2022  Map production for \"NEWLAND\"  RATE', ' INVOICE    INVOICE #2104 INVOICE #2104 DATE: AUGUST 31ST, 2022    AMOUNT']\n",
            "--> [' Mayne Maps ABN 4981 5250 249 349 Fig Tree Pocket Road Fig Tree Pocket 4069 Phone 0409 800 211 alan53au@yahoo.com.au ABN:4981 5250 249 TO: Ms Amanda Milton Elders  6-7/8/2022 Map production for \"NEWLANDS\"', '           DESCRIPTION 6-7/8/2022 Map production for \"NEWLANDS\"', '        FOR Map production for \"NEWLAND\"   ', '         Map production for \"NEWLAND\"  HOURS 4.75 hours', '       DATE: AUGUST 31ST, 2022  Map production for \"NEWLAND\"  RATE $40 /hr', ' INVOICE    INVOICE #2104 INVOICE #2104 DATE: AUGUST 31ST, 2022    AMOUNT $190.00']\n",
            "--> [' Mayne Maps ABN 4981 5250 249 349 Fig Tree Pocket Road Fig Tree Pocket 4069 Phone 0409 800 211 alan53au@yahoo.com.au ABN:4981 5250 249 TO: Ms Amanda Milton Elders  6-7/8/2022 Map production for \"NEWLANDS\" GST COMPONENT', '           DESCRIPTION 6-7/8/2022 Map production for \"NEWLANDS\" ', '        FOR Map production for \"NEWLAND\"    ', '         Map production for \"NEWLAND\"  HOURS 4.75 hours ', '       DATE: AUGUST 31ST, 2022  Map production for \"NEWLAND\"  RATE $40 /hr ', ' INVOICE    INVOICE #2104 INVOICE #2104 DATE: AUGUST 31ST, 2022    AMOUNT $190.00 $19.00']\n",
            "--> [' Mayne Maps ABN 4981 5250 249 349 Fig Tree Pocket Road Fig Tree Pocket 4069 Phone 0409 800 211 alan53au@yahoo.com.au ABN:4981 5250 249 TO: Ms Amanda Milton Elders  6-7/8/2022 Map production for \"NEWLANDS\" GST COMPONENT ', '           DESCRIPTION 6-7/8/2022 Map production for \"NEWLANDS\"  INVOICE NUMBER #2104', '        FOR Map production for \"NEWLAND\"     INVOICE NUMBER #2104', '         Map production for \"NEWLAND\"  HOURS 4.75 hours  ', '       DATE: AUGUST 31ST, 2022  Map production for \"NEWLAND\"  RATE $40 /hr  ', ' INVOICE    INVOICE #2104 INVOICE #2104 DATE: AUGUST 31ST, 2022    AMOUNT $190.00 $19.00 ']\n",
            "--> [' Mayne Maps ABN 4981 5250 249 349 Fig Tree Pocket Road Fig Tree Pocket 4069 Phone 0409 800 211 alan53au@yahoo.com.au ABN:4981 5250 249 TO: Ms Amanda Milton Elders  6-7/8/2022 Map production for \"NEWLANDS\" GST COMPONENT  PLEASE QUOTE INVOICE NUMBER WITH EFT PAYMENT', '           DESCRIPTION 6-7/8/2022 Map production for \"NEWLANDS\"  INVOICE NUMBER #2104 PLEASE QUOTE INVOICE NUMBER WITH EFT PAYMENT', '        FOR Map production for \"NEWLAND\"     INVOICE NUMBER #2104 PLEASE QUOTE INVOICE NUMBER WITH EFT PAYMENT', '         Map production for \"NEWLAND\"  HOURS 4.75 hours   ', '       DATE: AUGUST 31ST, 2022  Map production for \"NEWLAND\"  RATE $40 /hr   ', ' INVOICE    INVOICE #2104 INVOICE #2104 DATE: AUGUST 31ST, 2022    AMOUNT $190.00 $19.00  ']\n",
            "--> [' Mayne Maps ABN 4981 5250 249 349 Fig Tree Pocket Road Fig Tree Pocket 4069 Phone 0409 800 211 alan53au@yahoo.com.au ABN:4981 5250 249 TO: Ms Amanda Milton Elders  6-7/8/2022 Map production for \"NEWLANDS\" GST COMPONENT  PLEASE QUOTE INVOICE NUMBER WITH EFT PAYMENT N.B. GST component', '           DESCRIPTION 6-7/8/2022 Map production for \"NEWLANDS\"  INVOICE NUMBER #2104 PLEASE QUOTE INVOICE NUMBER WITH EFT PAYMENT ', '        FOR Map production for \"NEWLAND\"     INVOICE NUMBER #2104 PLEASE QUOTE INVOICE NUMBER WITH EFT PAYMENT ', '         Map production for \"NEWLAND\"  HOURS 4.75 hours    ', '       DATE: AUGUST 31ST, 2022  Map production for \"NEWLAND\"  RATE $40 /hr    ', ' INVOICE    INVOICE #2104 INVOICE #2104 DATE: AUGUST 31ST, 2022    AMOUNT $190.00 $19.00   $0']\n",
            "--> [' Mayne Maps ABN 4981 5250 249 349 Fig Tree Pocket Road Fig Tree Pocket 4069 Phone 0409 800 211 alan53au@yahoo.com.au ABN:4981 5250 249 TO: Ms Amanda Milton Elders  6-7/8/2022 Map production for \"NEWLANDS\" GST COMPONENT  PLEASE QUOTE INVOICE NUMBER WITH EFT PAYMENT N.B. GST component ', '           DESCRIPTION 6-7/8/2022 Map production for \"NEWLANDS\"  INVOICE NUMBER #2104 PLEASE QUOTE INVOICE NUMBER WITH EFT PAYMENT  ', '        FOR Map production for \"NEWLAND\"     INVOICE NUMBER #2104 PLEASE QUOTE INVOICE NUMBER WITH EFT PAYMENT  ', '         Map production for \"NEWLAND\"  HOURS 4.75 hours     ', '       DATE: AUGUST 31ST, 2022  Map production for \"NEWLAND\"  RATE $40 /hr     TOTAL', ' INVOICE    INVOICE #2104 INVOICE #2104 DATE: AUGUST 31ST, 2022    AMOUNT $190.00 $19.00   $0 $209.00']\n",
            "--> [' Mayne Maps ABN 4981 5250 249 349 Fig Tree Pocket Road Fig Tree Pocket 4069 Phone 0409 800 211 alan53au@yahoo.com.au ABN:4981 5250 249 TO: Ms Amanda Milton Elders  6-7/8/2022 Map production for \"NEWLANDS\" GST COMPONENT  PLEASE QUOTE INVOICE NUMBER WITH EFT PAYMENT N.B. GST component  Account details:', '           DESCRIPTION 6-7/8/2022 Map production for \"NEWLANDS\"  INVOICE NUMBER #2104 PLEASE QUOTE INVOICE NUMBER WITH EFT PAYMENT   ', '        FOR Map production for \"NEWLAND\"     INVOICE NUMBER #2104 PLEASE QUOTE INVOICE NUMBER WITH EFT PAYMENT   ', '         Map production for \"NEWLAND\"  HOURS 4.75 hours      ', '       DATE: AUGUST 31ST, 2022  Map production for \"NEWLAND\"  RATE $40 /hr     TOTAL ', ' INVOICE    INVOICE #2104 INVOICE #2104 DATE: AUGUST 31ST, 2022    AMOUNT $190.00 $19.00   $0 $209.00 ']\n",
            "--> [' Mayne Maps ABN 4981 5250 249 349 Fig Tree Pocket Road Fig Tree Pocket 4069 Phone 0409 800 211 alan53au@yahoo.com.au ABN:4981 5250 249 TO: Ms Amanda Milton Elders  6-7/8/2022 Map production for \"NEWLANDS\" GST COMPONENT  PLEASE QUOTE INVOICE NUMBER WITH EFT PAYMENT N.B. GST component  Account details: Name: MAYNE MAPS', '           DESCRIPTION 6-7/8/2022 Map production for \"NEWLANDS\"  INVOICE NUMBER #2104 PLEASE QUOTE INVOICE NUMBER WITH EFT PAYMENT    ', '        FOR Map production for \"NEWLAND\"     INVOICE NUMBER #2104 PLEASE QUOTE INVOICE NUMBER WITH EFT PAYMENT    ', '         Map production for \"NEWLAND\"  HOURS 4.75 hours       ', '       DATE: AUGUST 31ST, 2022  Map production for \"NEWLAND\"  RATE $40 /hr     TOTAL  ', ' INVOICE    INVOICE #2104 INVOICE #2104 DATE: AUGUST 31ST, 2022    AMOUNT $190.00 $19.00   $0 $209.00  ']\n",
            "--> [' Mayne Maps ABN 4981 5250 249 349 Fig Tree Pocket Road Fig Tree Pocket 4069 Phone 0409 800 211 alan53au@yahoo.com.au ABN:4981 5250 249 TO: Ms Amanda Milton Elders  6-7/8/2022 Map production for \"NEWLANDS\" GST COMPONENT  PLEASE QUOTE INVOICE NUMBER WITH EFT PAYMENT N.B. GST component  Account details: Name: MAYNE MAPS BSB 034-086', '           DESCRIPTION 6-7/8/2022 Map production for \"NEWLANDS\"  INVOICE NUMBER #2104 PLEASE QUOTE INVOICE NUMBER WITH EFT PAYMENT     ', '        FOR Map production for \"NEWLAND\"     INVOICE NUMBER #2104 PLEASE QUOTE INVOICE NUMBER WITH EFT PAYMENT     PLEASE QUOTE', '         Map production for \"NEWLAND\"  HOURS 4.75 hours        ', '       DATE: AUGUST 31ST, 2022  Map production for \"NEWLAND\"  RATE $40 /hr     TOTAL   ', ' INVOICE    INVOICE #2104 INVOICE #2104 DATE: AUGUST 31ST, 2022    AMOUNT $190.00 $19.00   $0 $209.00   ']\n",
            "--> [' Mayne Maps ABN 4981 5250 249 349 Fig Tree Pocket Road Fig Tree Pocket 4069 Phone 0409 800 211 alan53au@yahoo.com.au ABN:4981 5250 249 TO: Ms Amanda Milton Elders  6-7/8/2022 Map production for \"NEWLANDS\" GST COMPONENT  PLEASE QUOTE INVOICE NUMBER WITH EFT PAYMENT N.B. GST component  Account details: Name: MAYNE MAPS BSB 034-086 Account Number: 18-1169', '           DESCRIPTION 6-7/8/2022 Map production for \"NEWLANDS\"  INVOICE NUMBER #2104 PLEASE QUOTE INVOICE NUMBER WITH EFT PAYMENT      Account Number: 18-1169', '        FOR Map production for \"NEWLAND\"     INVOICE NUMBER #2104 PLEASE QUOTE INVOICE NUMBER WITH EFT PAYMENT     PLEASE QUOTE INVOICE NUMBER', '         Map production for \"NEWLAND\"  HOURS 4.75 hours         ', '       DATE: AUGUST 31ST, 2022  Map production for \"NEWLAND\"  RATE $40 /hr     TOTAL    ', ' INVOICE    INVOICE #2104 INVOICE #2104 DATE: AUGUST 31ST, 2022    AMOUNT $190.00 $19.00   $0 $209.00    ']\n",
            "--> [' Mayne Maps ABN 4981 5250 249 349 Fig Tree Pocket Road Fig Tree Pocket 4069 Phone 0409 800 211 alan53au@yahoo.com.au ABN:4981 5250 249 TO: Ms Amanda Milton Elders  6-7/8/2022 Map production for \"NEWLANDS\" GST COMPONENT  PLEASE QUOTE INVOICE NUMBER WITH EFT PAYMENT N.B. GST component  Account details: Name: MAYNE MAPS BSB 034-086 Account Number: 18-1169 Westpac Bank', '           DESCRIPTION 6-7/8/2022 Map production for \"NEWLANDS\"  INVOICE NUMBER #2104 PLEASE QUOTE INVOICE NUMBER WITH EFT PAYMENT      Account Number: 18-1169 ', '        FOR Map production for \"NEWLAND\"     INVOICE NUMBER #2104 PLEASE QUOTE INVOICE NUMBER WITH EFT PAYMENT     PLEASE QUOTE INVOICE NUMBER IN TRANSACTION', '         Map production for \"NEWLAND\"  HOURS 4.75 hours          ', '       DATE: AUGUST 31ST, 2022  Map production for \"NEWLAND\"  RATE $40 /hr     TOTAL     N.B. Detailed Time Sheet', ' INVOICE    INVOICE #2104 INVOICE #2104 DATE: AUGUST 31ST, 2022    AMOUNT $190.00 $19.00   $0 $209.00     ']\n",
            "--> [' Mayne Maps ABN 4981 5250 249 349 Fig Tree Pocket Road Fig Tree Pocket 4069 Phone 0409 800 211 alan53au@yahoo.com.au ABN:4981 5250 249 TO: Ms Amanda Milton Elders  6-7/8/2022 Map production for \"NEWLANDS\" GST COMPONENT  PLEASE QUOTE INVOICE NUMBER WITH EFT PAYMENT N.B. GST component  Account details: Name: MAYNE MAPS BSB 034-086 Account Number: 18-1169 Westpac Bank ', '           DESCRIPTION 6-7/8/2022 Map production for \"NEWLANDS\"  INVOICE NUMBER #2104 PLEASE QUOTE INVOICE NUMBER WITH EFT PAYMENT      Account Number: 18-1169  ', '        FOR Map production for \"NEWLAND\"     INVOICE NUMBER #2104 PLEASE QUOTE INVOICE NUMBER WITH EFT PAYMENT     PLEASE QUOTE INVOICE NUMBER IN TRANSACTION DETAILS', '         Map production for \"NEWLAND\"  HOURS 4.75 hours           ', '       DATE: AUGUST 31ST, 2022  Map production for \"NEWLAND\"  RATE $40 /hr     TOTAL     N.B. Detailed Time Sheet Available on request', ' INVOICE    INVOICE #2104 INVOICE #2104 DATE: AUGUST 31ST, 2022    AMOUNT $190.00 $19.00   $0 $209.00      ']\n",
            "--> [' Mayne Maps ABN 4981 5250 249 349 Fig Tree Pocket Road Fig Tree Pocket 4069 Phone 0409 800 211 alan53au@yahoo.com.au ABN:4981 5250 249 TO: Ms Amanda Milton Elders  6-7/8/2022 Map production for \"NEWLANDS\" GST COMPONENT  PLEASE QUOTE INVOICE NUMBER WITH EFT PAYMENT N.B. GST component  Account details: Name: MAYNE MAPS BSB 034-086 Account Number: 18-1169 Westpac Bank  ', '           DESCRIPTION 6-7/8/2022 Map production for \"NEWLANDS\"  INVOICE NUMBER #2104 PLEASE QUOTE INVOICE NUMBER WITH EFT PAYMENT      Account Number: 18-1169   ', '        FOR Map production for \"NEWLAND\"     INVOICE NUMBER #2104 PLEASE QUOTE INVOICE NUMBER WITH EFT PAYMENT     PLEASE QUOTE INVOICE NUMBER IN TRANSACTION DETAILS Thank you for your business!', '         Map production for \"NEWLAND\"  HOURS 4.75 hours            ', '       DATE: AUGUST 31ST, 2022  Map production for \"NEWLAND\"  RATE $40 /hr     TOTAL     N.B. Detailed Time Sheet Available on request ', ' INVOICE    INVOICE #2104 INVOICE #2104 DATE: AUGUST 31ST, 2022    AMOUNT $190.00 $19.00   $0 $209.00       ']\n",
            "[]\n"
          ]
        }
      ]
    },
    {
      "cell_type": "code",
      "source": [
        "pd.DataFrame(cleaned_array).to_csv('cleaned.csv')"
      ],
      "metadata": {
        "id": "RZltyMmD_E68"
      },
      "execution_count": null,
      "outputs": []
    },
    {
      "cell_type": "markdown",
      "source": [
        "# Convert to OWL Format"
      ],
      "metadata": {
        "id": "M9rH5mX9Mx7g"
      }
    },
    {
      "cell_type": "markdown",
      "source": [
        "# **CSV to Text**"
      ],
      "metadata": {
        "id": "SqFdbM634H5w"
      }
    },
    {
      "cell_type": "code",
      "source": [
        "import  jpype     \n",
        "import  asposecells  \n",
        "\n",
        "\n",
        "jpype.startJVM() \n",
        "from asposecells.api import Workbook\n",
        "\n",
        "workbook = Workbook(\"/content/sample.csv\")\n",
        "workbook.save(\"Output.docx\")\n",
        "jpype.shutdownJVM()"
      ],
      "metadata": {
        "id": "949GB9T1_Go7"
      },
      "execution_count": null,
      "outputs": []
    },
    {
      "cell_type": "code",
      "source": [],
      "metadata": {
        "id": "eIGJDS7u4DLS"
      },
      "execution_count": null,
      "outputs": []
    },
    {
      "cell_type": "code",
      "source": [],
      "metadata": {
        "id": "ziHBaaCn4DN2"
      },
      "execution_count": null,
      "outputs": []
    },
    {
      "cell_type": "markdown",
      "source": [
        "# Brighten Image (For Anyone dealing with PDFs created from scanned images)"
      ],
      "metadata": {
        "id": "FIzj02CHqce7"
      }
    },
    {
      "cell_type": "code",
      "source": [
        "from PIL import Image, ImageEnhance\n",
        "\n",
        "#read the image\n",
        "im = Image.open(\"ext_im.jpg\")\n",
        "\n",
        "#image brightness enhancer\n",
        "enhancer = ImageEnhance.Brightness(im)\n",
        "\n",
        "factor = 1 #gives original image\n",
        "im_output = enhancer.enhance(factor)\n",
        "im_output.save('ext_im-1.jpg')\n",
        "\n",
        "factor = 1.5## brightens the image\n",
        "im_output = enhancer.enhance(factor)\n",
        "im_output.save('ext_im-2.jpg')\n"
      ],
      "metadata": {
        "id": "vnzqj5q34DQk"
      },
      "execution_count": null,
      "outputs": []
    },
    {
      "cell_type": "code",
      "source": [],
      "metadata": {
        "id": "arQSfE2br7YT"
      },
      "execution_count": null,
      "outputs": []
    }
  ],
  "metadata": {
    "accelerator": "GPU",
    "colab": {
      "collapsed_sections": [
        "E693Ela3qhLx",
        "SqFdbM634H5w",
        "FIzj02CHqce7"
      ],
      "provenance": []
    },
    "kernelspec": {
      "display_name": "Python 3",
      "name": "python3"
    },
    "language_info": {
      "name": "python"
    }
  },
  "nbformat": 4,
  "nbformat_minor": 0
}